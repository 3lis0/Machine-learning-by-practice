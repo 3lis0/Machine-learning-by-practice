{
 "cells": [
  {
   "cell_type": "markdown",
   "id": "09542aa5",
   "metadata": {},
   "source": [
    "# Credit Score Classification\n",
    "\n",
    "## Objective\n",
    "The primary objective of this project is to develop a machine learning model that accurately classifies individuals into predefined credit score categories based on various features available in the dataset. The end goal is to create a tool that can help financial institutions assess the creditworthiness of their clients efficiently and reliably.\n",
    "\n",
    "# Features Description\n",
    "\n",
    "- **ID**: A unique identifier for each entry in the dataset.\n",
    "\n",
    "- **Customer_ID**: A unique identifier for each customer. This is used to track individual credit records.\n",
    "\n",
    "- **Month**: The transaction or record month. Useful for temporal analysis to track scores over time.\n",
    "\n",
    "- **Name**: The name of the customer. Generally not used for modeling but may be used for descriptive purposes.\n",
    "\n",
    "- **Age**: The age of the customer. Age could be a significant factor in determining credit risk.\n",
    "\n",
    "- **SSN**: Social Security Number. Typically, not used directly in modeling but important for identification and verification processes.\n",
    "\n",
    "- **Occupation**: The occupation of the customer. Different occupation types can have varying default risk associated with them.\n",
    "\n",
    "- **Annual_Income**: The total yearly income of the customer. A key factor in determining an individual's ability to repay loans.\n",
    "\n",
    "- **Monthly_Inhand_Salary**: The salary in-hand received monthly after deductions. Important for assessing cash flow and repayment capacity.\n",
    "\n",
    "- **Num_Bank_Accounts**: Total number of bank accounts the customer has. Reflects financial behavior and stability.\n",
    "\n",
    "- **Num_Credit_Card**: The number of credit cards held by the customer. Related to credit exposure and spending habits.\n",
    "\n",
    "- **Interest_Rate**: The interest rate applicable on loans or credit cards. Influences the customer’s repayment burden.\n",
    "\n",
    "- **Num_of_Loan**: The total number of loans the customer has. Shows the level of indebtedness.\n",
    "\n",
    "- **Type_of_Loan**: The types of loans held by the customer (e.g., personal, auto, mortgage). Different loan types carry different risks.\n",
    "\n",
    "- **Delay_from_due_date**: Average delay in days for payments past due date. Indicative of payment habits and reliability.\n",
    "\n",
    "- **Num_of_Delayed_Payment**: Number of payments delayed beyond due dates. Impacts credit score directly.\n",
    "\n",
    "- **Changed_Credit_Limit**: Changes in credit limits. Could indicate changes in perceived creditworthiness or attempts to manage debts.\n",
    "\n",
    "- **Num_Credit_Inquiries**: Number of times the credit report has been pulled. A high number might indicate financial distress or credit shopping.\n",
    "\n",
    "- **Credit_Mix**: The variety of credit types the customer has (e.g., cards, mortgages, installment loans). Diversity can be positive or negative.\n",
    "\n",
    "- **Outstanding_Debt**: The total debt remaining unpaid. High debt indicates higher risk.\n",
    "\n",
    "- **Credit_Utilization_Ratio**: The percentage of credit used out of the total available credit limit. Higher ratios suggest greater risk.\n",
    "\n",
    "- **Credit_History_Age**: The age of the customer’s oldest credit account, usually in years and months. Longer histories typically boast better scores.\n",
    "\n",
    "- **Payment_of_Min_Amount**: Whether the customer makes only the minimum monthly payment. Shows risk-averse behavior.\n",
    "\n",
    "- **Total_EMI_per_month**: The total Equated Monthly Installment paid across all loans. Determines monthly financial burden.\n",
    "\n",
    "- **Amount_invested_monthly**: The amount the customer invests monthly. Suggests savings habits and financial health.\n",
    "\n",
    "- **Payment_Behaviour**: General payment behavior and patterns. A qualitative measure of reliability.\n",
    "\n",
    "- **Monthly_Balance**: The balance remaining after monthly expenses. Indicates cash flow and financial stability.\n",
    "\n",
    "\n",
    "## Target\n",
    "The target variable for this classification problem is the credit score category, which segments individuals according to their creditworthiness. The categories may include, but are not limited to:\n",
    "- **Good**: Represents individuals who have a high credit score and are likely to meet their credit obligations.\n",
    "- **Average**: Represents individuals with a medium-range credit score, indicating moderate creditworthiness.\n",
    "- **Poor**: Represents individuals with a low credit score, suggesting a higher risk of default.\n",
    "\n",
    "The model will be trained to assign each individual in the dataset to one of these categories based on the input features."
   ]
  },
  {
   "cell_type": "markdown",
   "id": "409ae9cc",
   "metadata": {},
   "source": [
    "# 01. Import Necessary Libraries"
   ]
  },
  {
   "cell_type": "markdown",
   "id": "3c117a3e",
   "metadata": {},
   "source": [
    "- Default Libraries"
   ]
  },
  {
   "cell_type": "code",
   "execution_count": 1,
   "id": "f620caea",
   "metadata": {},
   "outputs": [],
   "source": [
    "import numpy as np\n",
    "import pandas as pd\n",
    "import matplotlib.pyplot as plt\n",
    "import seaborn as sns"
   ]
  },
  {
   "cell_type": "markdown",
   "id": "821634a9",
   "metadata": {},
   "source": [
    "- Additional Libraries"
   ]
  },
  {
   "cell_type": "code",
   "execution_count": 2,
   "id": "b581409f",
   "metadata": {},
   "outputs": [],
   "source": [
    "from sklearn.preprocessing import LabelEncoder, OrdinalEncoder, OneHotEncoder, StandardScaler\n",
    "from sklearn.model_selection import train_test_split\n",
    "from sklearn.compose import ColumnTransformer\n",
    "from sklearn.pipeline import Pipeline\n",
    "from sklearn.ensemble import RandomForestClassifier\n",
    "from sklearn.tree import DecisionTreeClassifier\n",
    "from xgboost import XGBClassifier\n",
    "from xgboost import plot_importance\n",
    "from sklearn.model_selection import cross_val_score, KFold, RandomizedSearchCV\n",
    "from sklearn.metrics import accuracy_score, classification_report, confusion_matrix"
   ]
  },
  {
   "cell_type": "markdown",
   "id": "0fef335d",
   "metadata": {},
   "source": [
    "----------------\n",
    "# 02. Load Data"
   ]
  },
  {
   "cell_type": "code",
   "execution_count": 3,
   "id": "46813e1c",
   "metadata": {},
   "outputs": [
    {
     "name": "stderr",
     "output_type": "stream",
     "text": [
      "C:\\Users\\alisa\\AppData\\Local\\Temp\\ipykernel_5256\\3141004913.py:1: DtypeWarning: Columns (26) have mixed types. Specify dtype option on import or set low_memory=False.\n",
      "  train = pd.read_csv(\"Data/train.csv\")\n"
     ]
    }
   ],
   "source": [
    "train = pd.read_csv(\"Data/train.csv\")"
   ]
  },
  {
   "cell_type": "markdown",
   "id": "cce9eba3",
   "metadata": {},
   "source": [
    "----------------\n",
    "# 03. Exploratory Data Analysis (EDA)"
   ]
  },
  {
   "cell_type": "markdown",
   "id": "7cb9d7f2",
   "metadata": {},
   "source": [
    "## `i` Simple Analysis"
   ]
  },
  {
   "cell_type": "code",
   "execution_count": 4,
   "id": "fd3d5383",
   "metadata": {},
   "outputs": [
    {
     "data": {
      "text/plain": [
       "(100000, 28)"
      ]
     },
     "execution_count": 4,
     "metadata": {},
     "output_type": "execute_result"
    }
   ],
   "source": [
    "train.shape"
   ]
  },
  {
   "cell_type": "code",
   "execution_count": 5,
   "id": "3e427b76",
   "metadata": {},
   "outputs": [
    {
     "data": {
      "application/vnd.microsoft.datawrangler.viewer.v0+json": {
       "columns": [
        {
         "name": "index",
         "rawType": "int64",
         "type": "integer"
        },
        {
         "name": "ID",
         "rawType": "object",
         "type": "string"
        },
        {
         "name": "Customer_ID",
         "rawType": "object",
         "type": "string"
        },
        {
         "name": "Month",
         "rawType": "object",
         "type": "string"
        },
        {
         "name": "Name",
         "rawType": "object",
         "type": "string"
        },
        {
         "name": "Age",
         "rawType": "object",
         "type": "string"
        },
        {
         "name": "SSN",
         "rawType": "object",
         "type": "string"
        },
        {
         "name": "Occupation",
         "rawType": "object",
         "type": "string"
        },
        {
         "name": "Annual_Income",
         "rawType": "object",
         "type": "string"
        },
        {
         "name": "Monthly_Inhand_Salary",
         "rawType": "float64",
         "type": "float"
        },
        {
         "name": "Num_Bank_Accounts",
         "rawType": "int64",
         "type": "integer"
        },
        {
         "name": "Num_Credit_Card",
         "rawType": "int64",
         "type": "integer"
        },
        {
         "name": "Interest_Rate",
         "rawType": "int64",
         "type": "integer"
        },
        {
         "name": "Num_of_Loan",
         "rawType": "object",
         "type": "string"
        },
        {
         "name": "Type_of_Loan",
         "rawType": "object",
         "type": "string"
        },
        {
         "name": "Delay_from_due_date",
         "rawType": "int64",
         "type": "integer"
        },
        {
         "name": "Num_of_Delayed_Payment",
         "rawType": "object",
         "type": "unknown"
        },
        {
         "name": "Changed_Credit_Limit",
         "rawType": "object",
         "type": "string"
        },
        {
         "name": "Num_Credit_Inquiries",
         "rawType": "float64",
         "type": "float"
        },
        {
         "name": "Credit_Mix",
         "rawType": "object",
         "type": "string"
        },
        {
         "name": "Outstanding_Debt",
         "rawType": "object",
         "type": "string"
        },
        {
         "name": "Credit_Utilization_Ratio",
         "rawType": "float64",
         "type": "float"
        },
        {
         "name": "Credit_History_Age",
         "rawType": "object",
         "type": "unknown"
        },
        {
         "name": "Payment_of_Min_Amount",
         "rawType": "object",
         "type": "string"
        },
        {
         "name": "Total_EMI_per_month",
         "rawType": "float64",
         "type": "float"
        },
        {
         "name": "Amount_invested_monthly",
         "rawType": "object",
         "type": "string"
        },
        {
         "name": "Payment_Behaviour",
         "rawType": "object",
         "type": "string"
        },
        {
         "name": "Monthly_Balance",
         "rawType": "object",
         "type": "string"
        },
        {
         "name": "Credit_Score",
         "rawType": "object",
         "type": "string"
        }
       ],
       "ref": "0faf512e-655e-4829-bffb-207681d26edd",
       "rows": [
        [
         "0",
         "0x1602",
         "CUS_0xd40",
         "January",
         "Aaron Maashoh",
         "23",
         "821-00-0265",
         "Scientist",
         "19114.12",
         "1824.8433333333328",
         "3",
         "4",
         "3",
         "4",
         "Auto Loan, Credit-Builder Loan, Personal Loan, and Home Equity Loan",
         "3",
         "7",
         "11.27",
         "4.0",
         "_",
         "809.98",
         "26.822619623699016",
         "22 Years and 1 Months",
         "No",
         "49.57494921489417",
         "80.41529543900253",
         "High_spent_Small_value_payments",
         "312.49408867943663",
         "Good"
        ],
        [
         "1",
         "0x1603",
         "CUS_0xd40",
         "February",
         "Aaron Maashoh",
         "23",
         "821-00-0265",
         "Scientist",
         "19114.12",
         null,
         "3",
         "4",
         "3",
         "4",
         "Auto Loan, Credit-Builder Loan, Personal Loan, and Home Equity Loan",
         "-1",
         null,
         "11.27",
         "4.0",
         "Good",
         "809.98",
         "31.94496005538421",
         null,
         "No",
         "49.57494921489417",
         "118.28022162236736",
         "Low_spent_Large_value_payments",
         "284.62916249607184",
         "Good"
        ],
        [
         "2",
         "0x1604",
         "CUS_0xd40",
         "March",
         "Aaron Maashoh",
         "-500",
         "821-00-0265",
         "Scientist",
         "19114.12",
         null,
         "3",
         "4",
         "3",
         "4",
         "Auto Loan, Credit-Builder Loan, Personal Loan, and Home Equity Loan",
         "3",
         "7",
         "_",
         "4.0",
         "Good",
         "809.98",
         "28.60935202206993",
         "22 Years and 3 Months",
         "No",
         "49.57494921489417",
         "81.699521264648",
         "Low_spent_Medium_value_payments",
         "331.2098628537912",
         "Good"
        ],
        [
         "3",
         "0x1605",
         "CUS_0xd40",
         "April",
         "Aaron Maashoh",
         "23",
         "821-00-0265",
         "Scientist",
         "19114.12",
         null,
         "3",
         "4",
         "3",
         "4",
         "Auto Loan, Credit-Builder Loan, Personal Loan, and Home Equity Loan",
         "5",
         "4",
         "6.27",
         "4.0",
         "Good",
         "809.98",
         "31.377861869582357",
         "22 Years and 4 Months",
         "No",
         "49.57494921489417",
         "199.4580743910713",
         "Low_spent_Small_value_payments",
         "223.45130972736786",
         "Good"
        ],
        [
         "4",
         "0x1606",
         "CUS_0xd40",
         "May",
         "Aaron Maashoh",
         "23",
         "821-00-0265",
         "Scientist",
         "19114.12",
         "1824.8433333333328",
         "3",
         "4",
         "3",
         "4",
         "Auto Loan, Credit-Builder Loan, Personal Loan, and Home Equity Loan",
         "6",
         null,
         "11.27",
         "4.0",
         "Good",
         "809.98",
         "24.797346908844982",
         "22 Years and 5 Months",
         "No",
         "49.57494921489417",
         "41.420153086217326",
         "High_spent_Medium_value_payments",
         "341.48923103222177",
         "Good"
        ]
       ],
       "shape": {
        "columns": 28,
        "rows": 5
       }
      },
      "text/html": [
       "<div>\n",
       "<style scoped>\n",
       "    .dataframe tbody tr th:only-of-type {\n",
       "        vertical-align: middle;\n",
       "    }\n",
       "\n",
       "    .dataframe tbody tr th {\n",
       "        vertical-align: top;\n",
       "    }\n",
       "\n",
       "    .dataframe thead th {\n",
       "        text-align: right;\n",
       "    }\n",
       "</style>\n",
       "<table border=\"1\" class=\"dataframe\">\n",
       "  <thead>\n",
       "    <tr style=\"text-align: right;\">\n",
       "      <th></th>\n",
       "      <th>ID</th>\n",
       "      <th>Customer_ID</th>\n",
       "      <th>Month</th>\n",
       "      <th>Name</th>\n",
       "      <th>Age</th>\n",
       "      <th>SSN</th>\n",
       "      <th>Occupation</th>\n",
       "      <th>Annual_Income</th>\n",
       "      <th>Monthly_Inhand_Salary</th>\n",
       "      <th>Num_Bank_Accounts</th>\n",
       "      <th>...</th>\n",
       "      <th>Credit_Mix</th>\n",
       "      <th>Outstanding_Debt</th>\n",
       "      <th>Credit_Utilization_Ratio</th>\n",
       "      <th>Credit_History_Age</th>\n",
       "      <th>Payment_of_Min_Amount</th>\n",
       "      <th>Total_EMI_per_month</th>\n",
       "      <th>Amount_invested_monthly</th>\n",
       "      <th>Payment_Behaviour</th>\n",
       "      <th>Monthly_Balance</th>\n",
       "      <th>Credit_Score</th>\n",
       "    </tr>\n",
       "  </thead>\n",
       "  <tbody>\n",
       "    <tr>\n",
       "      <th>0</th>\n",
       "      <td>0x1602</td>\n",
       "      <td>CUS_0xd40</td>\n",
       "      <td>January</td>\n",
       "      <td>Aaron Maashoh</td>\n",
       "      <td>23</td>\n",
       "      <td>821-00-0265</td>\n",
       "      <td>Scientist</td>\n",
       "      <td>19114.12</td>\n",
       "      <td>1824.843333</td>\n",
       "      <td>3</td>\n",
       "      <td>...</td>\n",
       "      <td>_</td>\n",
       "      <td>809.98</td>\n",
       "      <td>26.822620</td>\n",
       "      <td>22 Years and 1 Months</td>\n",
       "      <td>No</td>\n",
       "      <td>49.574949</td>\n",
       "      <td>80.41529543900253</td>\n",
       "      <td>High_spent_Small_value_payments</td>\n",
       "      <td>312.49408867943663</td>\n",
       "      <td>Good</td>\n",
       "    </tr>\n",
       "    <tr>\n",
       "      <th>1</th>\n",
       "      <td>0x1603</td>\n",
       "      <td>CUS_0xd40</td>\n",
       "      <td>February</td>\n",
       "      <td>Aaron Maashoh</td>\n",
       "      <td>23</td>\n",
       "      <td>821-00-0265</td>\n",
       "      <td>Scientist</td>\n",
       "      <td>19114.12</td>\n",
       "      <td>NaN</td>\n",
       "      <td>3</td>\n",
       "      <td>...</td>\n",
       "      <td>Good</td>\n",
       "      <td>809.98</td>\n",
       "      <td>31.944960</td>\n",
       "      <td>NaN</td>\n",
       "      <td>No</td>\n",
       "      <td>49.574949</td>\n",
       "      <td>118.28022162236736</td>\n",
       "      <td>Low_spent_Large_value_payments</td>\n",
       "      <td>284.62916249607184</td>\n",
       "      <td>Good</td>\n",
       "    </tr>\n",
       "    <tr>\n",
       "      <th>2</th>\n",
       "      <td>0x1604</td>\n",
       "      <td>CUS_0xd40</td>\n",
       "      <td>March</td>\n",
       "      <td>Aaron Maashoh</td>\n",
       "      <td>-500</td>\n",
       "      <td>821-00-0265</td>\n",
       "      <td>Scientist</td>\n",
       "      <td>19114.12</td>\n",
       "      <td>NaN</td>\n",
       "      <td>3</td>\n",
       "      <td>...</td>\n",
       "      <td>Good</td>\n",
       "      <td>809.98</td>\n",
       "      <td>28.609352</td>\n",
       "      <td>22 Years and 3 Months</td>\n",
       "      <td>No</td>\n",
       "      <td>49.574949</td>\n",
       "      <td>81.699521264648</td>\n",
       "      <td>Low_spent_Medium_value_payments</td>\n",
       "      <td>331.2098628537912</td>\n",
       "      <td>Good</td>\n",
       "    </tr>\n",
       "    <tr>\n",
       "      <th>3</th>\n",
       "      <td>0x1605</td>\n",
       "      <td>CUS_0xd40</td>\n",
       "      <td>April</td>\n",
       "      <td>Aaron Maashoh</td>\n",
       "      <td>23</td>\n",
       "      <td>821-00-0265</td>\n",
       "      <td>Scientist</td>\n",
       "      <td>19114.12</td>\n",
       "      <td>NaN</td>\n",
       "      <td>3</td>\n",
       "      <td>...</td>\n",
       "      <td>Good</td>\n",
       "      <td>809.98</td>\n",
       "      <td>31.377862</td>\n",
       "      <td>22 Years and 4 Months</td>\n",
       "      <td>No</td>\n",
       "      <td>49.574949</td>\n",
       "      <td>199.4580743910713</td>\n",
       "      <td>Low_spent_Small_value_payments</td>\n",
       "      <td>223.45130972736786</td>\n",
       "      <td>Good</td>\n",
       "    </tr>\n",
       "    <tr>\n",
       "      <th>4</th>\n",
       "      <td>0x1606</td>\n",
       "      <td>CUS_0xd40</td>\n",
       "      <td>May</td>\n",
       "      <td>Aaron Maashoh</td>\n",
       "      <td>23</td>\n",
       "      <td>821-00-0265</td>\n",
       "      <td>Scientist</td>\n",
       "      <td>19114.12</td>\n",
       "      <td>1824.843333</td>\n",
       "      <td>3</td>\n",
       "      <td>...</td>\n",
       "      <td>Good</td>\n",
       "      <td>809.98</td>\n",
       "      <td>24.797347</td>\n",
       "      <td>22 Years and 5 Months</td>\n",
       "      <td>No</td>\n",
       "      <td>49.574949</td>\n",
       "      <td>41.420153086217326</td>\n",
       "      <td>High_spent_Medium_value_payments</td>\n",
       "      <td>341.48923103222177</td>\n",
       "      <td>Good</td>\n",
       "    </tr>\n",
       "  </tbody>\n",
       "</table>\n",
       "<p>5 rows × 28 columns</p>\n",
       "</div>"
      ],
      "text/plain": [
       "       ID Customer_ID     Month           Name   Age          SSN Occupation  \\\n",
       "0  0x1602   CUS_0xd40   January  Aaron Maashoh    23  821-00-0265  Scientist   \n",
       "1  0x1603   CUS_0xd40  February  Aaron Maashoh    23  821-00-0265  Scientist   \n",
       "2  0x1604   CUS_0xd40     March  Aaron Maashoh  -500  821-00-0265  Scientist   \n",
       "3  0x1605   CUS_0xd40     April  Aaron Maashoh    23  821-00-0265  Scientist   \n",
       "4  0x1606   CUS_0xd40       May  Aaron Maashoh    23  821-00-0265  Scientist   \n",
       "\n",
       "  Annual_Income  Monthly_Inhand_Salary  Num_Bank_Accounts  ...  Credit_Mix  \\\n",
       "0      19114.12            1824.843333                  3  ...           _   \n",
       "1      19114.12                    NaN                  3  ...        Good   \n",
       "2      19114.12                    NaN                  3  ...        Good   \n",
       "3      19114.12                    NaN                  3  ...        Good   \n",
       "4      19114.12            1824.843333                  3  ...        Good   \n",
       "\n",
       "   Outstanding_Debt Credit_Utilization_Ratio     Credit_History_Age  \\\n",
       "0            809.98                26.822620  22 Years and 1 Months   \n",
       "1            809.98                31.944960                    NaN   \n",
       "2            809.98                28.609352  22 Years and 3 Months   \n",
       "3            809.98                31.377862  22 Years and 4 Months   \n",
       "4            809.98                24.797347  22 Years and 5 Months   \n",
       "\n",
       "   Payment_of_Min_Amount Total_EMI_per_month Amount_invested_monthly  \\\n",
       "0                     No           49.574949       80.41529543900253   \n",
       "1                     No           49.574949      118.28022162236736   \n",
       "2                     No           49.574949         81.699521264648   \n",
       "3                     No           49.574949       199.4580743910713   \n",
       "4                     No           49.574949      41.420153086217326   \n",
       "\n",
       "                  Payment_Behaviour     Monthly_Balance Credit_Score  \n",
       "0   High_spent_Small_value_payments  312.49408867943663         Good  \n",
       "1    Low_spent_Large_value_payments  284.62916249607184         Good  \n",
       "2   Low_spent_Medium_value_payments   331.2098628537912         Good  \n",
       "3    Low_spent_Small_value_payments  223.45130972736786         Good  \n",
       "4  High_spent_Medium_value_payments  341.48923103222177         Good  \n",
       "\n",
       "[5 rows x 28 columns]"
      ]
     },
     "execution_count": 5,
     "metadata": {},
     "output_type": "execute_result"
    }
   ],
   "source": [
    "train.head()"
   ]
  },
  {
   "cell_type": "code",
   "execution_count": 6,
   "id": "3c5e821a",
   "metadata": {},
   "outputs": [
    {
     "name": "stdout",
     "output_type": "stream",
     "text": [
      "<class 'pandas.core.frame.DataFrame'>\n",
      "RangeIndex: 100000 entries, 0 to 99999\n",
      "Data columns (total 28 columns):\n",
      " #   Column                    Non-Null Count   Dtype  \n",
      "---  ------                    --------------   -----  \n",
      " 0   ID                        100000 non-null  object \n",
      " 1   Customer_ID               100000 non-null  object \n",
      " 2   Month                     100000 non-null  object \n",
      " 3   Name                      90015 non-null   object \n",
      " 4   Age                       100000 non-null  object \n",
      " 5   SSN                       100000 non-null  object \n",
      " 6   Occupation                100000 non-null  object \n",
      " 7   Annual_Income             100000 non-null  object \n",
      " 8   Monthly_Inhand_Salary     84998 non-null   float64\n",
      " 9   Num_Bank_Accounts         100000 non-null  int64  \n",
      " 10  Num_Credit_Card           100000 non-null  int64  \n",
      " 11  Interest_Rate             100000 non-null  int64  \n",
      " 12  Num_of_Loan               100000 non-null  object \n",
      " 13  Type_of_Loan              88592 non-null   object \n",
      " 14  Delay_from_due_date       100000 non-null  int64  \n",
      " 15  Num_of_Delayed_Payment    92998 non-null   object \n",
      " 16  Changed_Credit_Limit      100000 non-null  object \n",
      " 17  Num_Credit_Inquiries      98035 non-null   float64\n",
      " 18  Credit_Mix                100000 non-null  object \n",
      " 19  Outstanding_Debt          100000 non-null  object \n",
      " 20  Credit_Utilization_Ratio  100000 non-null  float64\n",
      " 21  Credit_History_Age        90970 non-null   object \n",
      " 22  Payment_of_Min_Amount     100000 non-null  object \n",
      " 23  Total_EMI_per_month       100000 non-null  float64\n",
      " 24  Amount_invested_monthly   95521 non-null   object \n",
      " 25  Payment_Behaviour         100000 non-null  object \n",
      " 26  Monthly_Balance           98800 non-null   object \n",
      " 27  Credit_Score              100000 non-null  object \n",
      "dtypes: float64(4), int64(4), object(20)\n",
      "memory usage: 21.4+ MB\n"
     ]
    }
   ],
   "source": [
    "train.info()"
   ]
  },
  {
   "cell_type": "code",
   "execution_count": null,
   "id": "b5e5a9be",
   "metadata": {},
   "outputs": [
    {
     "data": {
      "application/vnd.microsoft.datawrangler.viewer.v0+json": {
       "columns": [
        {
         "name": "index",
         "rawType": "object",
         "type": "string"
        },
        {
         "name": "Monthly_Inhand_Salary",
         "rawType": "float64",
         "type": "float"
        },
        {
         "name": "Num_Bank_Accounts",
         "rawType": "float64",
         "type": "float"
        },
        {
         "name": "Num_Credit_Card",
         "rawType": "float64",
         "type": "float"
        },
        {
         "name": "Interest_Rate",
         "rawType": "float64",
         "type": "float"
        },
        {
         "name": "Delay_from_due_date",
         "rawType": "float64",
         "type": "float"
        },
        {
         "name": "Num_Credit_Inquiries",
         "rawType": "float64",
         "type": "float"
        },
        {
         "name": "Credit_Utilization_Ratio",
         "rawType": "float64",
         "type": "float"
        },
        {
         "name": "Total_EMI_per_month",
         "rawType": "float64",
         "type": "float"
        }
       ],
       "ref": "6d3425a3-140b-473c-8ff8-b987aa404a48",
       "rows": [
        [
         "count",
         "84998.0",
         "100000.0",
         "100000.0",
         "100000.0",
         "100000.0",
         "98035.0",
         "100000.0",
         "100000.0"
        ],
        [
         "mean",
         "4194.170849600523",
         "17.09128",
         "22.47443",
         "72.46604",
         "21.06878",
         "27.75425103279441",
         "32.2851725189436",
         "1403.1182166159933"
        ],
        [
         "std",
         "3183.686166873262",
         "117.40483442734829",
         "129.05741011009846",
         "466.4226212217138",
         "14.86010422367809",
         "193.17733898003283",
         "5.116875070150906",
         "8306.041270321723"
        ],
        [
         "min",
         "303.6454166666666",
         "-1.0",
         "0.0",
         "1.0",
         "-5.0",
         "0.0",
         "20.0",
         "0.0"
        ],
        [
         "25%",
         "1625.5682291666667",
         "3.0",
         "4.0",
         "8.0",
         "10.0",
         "3.0",
         "28.05256656125577",
         "30.306660494686994"
        ],
        [
         "50%",
         "3093.745000000001",
         "6.0",
         "5.0",
         "13.0",
         "18.0",
         "6.0",
         "32.30578367171092",
         "69.24947329972044"
        ],
        [
         "75%",
         "5957.448333333334",
         "7.0",
         "7.0",
         "20.0",
         "28.0",
         "9.0",
         "36.4966630559621",
         "161.22424910969863"
        ],
        [
         "max",
         "15204.633333333331",
         "1798.0",
         "1499.0",
         "5797.0",
         "67.0",
         "2597.0",
         "50.00000000000001",
         "82331.0"
        ]
       ],
       "shape": {
        "columns": 8,
        "rows": 8
       }
      },
      "text/html": [
       "<div>\n",
       "<style scoped>\n",
       "    .dataframe tbody tr th:only-of-type {\n",
       "        vertical-align: middle;\n",
       "    }\n",
       "\n",
       "    .dataframe tbody tr th {\n",
       "        vertical-align: top;\n",
       "    }\n",
       "\n",
       "    .dataframe thead th {\n",
       "        text-align: right;\n",
       "    }\n",
       "</style>\n",
       "<table border=\"1\" class=\"dataframe\">\n",
       "  <thead>\n",
       "    <tr style=\"text-align: right;\">\n",
       "      <th></th>\n",
       "      <th>Monthly_Inhand_Salary</th>\n",
       "      <th>Num_Bank_Accounts</th>\n",
       "      <th>Num_Credit_Card</th>\n",
       "      <th>Interest_Rate</th>\n",
       "      <th>Delay_from_due_date</th>\n",
       "      <th>Num_Credit_Inquiries</th>\n",
       "      <th>Credit_Utilization_Ratio</th>\n",
       "      <th>Total_EMI_per_month</th>\n",
       "    </tr>\n",
       "  </thead>\n",
       "  <tbody>\n",
       "    <tr>\n",
       "      <th>count</th>\n",
       "      <td>84998.000000</td>\n",
       "      <td>100000.000000</td>\n",
       "      <td>100000.00000</td>\n",
       "      <td>100000.000000</td>\n",
       "      <td>100000.000000</td>\n",
       "      <td>98035.000000</td>\n",
       "      <td>100000.000000</td>\n",
       "      <td>100000.000000</td>\n",
       "    </tr>\n",
       "    <tr>\n",
       "      <th>mean</th>\n",
       "      <td>4194.170850</td>\n",
       "      <td>17.091280</td>\n",
       "      <td>22.47443</td>\n",
       "      <td>72.466040</td>\n",
       "      <td>21.068780</td>\n",
       "      <td>27.754251</td>\n",
       "      <td>32.285173</td>\n",
       "      <td>1403.118217</td>\n",
       "    </tr>\n",
       "    <tr>\n",
       "      <th>std</th>\n",
       "      <td>3183.686167</td>\n",
       "      <td>117.404834</td>\n",
       "      <td>129.05741</td>\n",
       "      <td>466.422621</td>\n",
       "      <td>14.860104</td>\n",
       "      <td>193.177339</td>\n",
       "      <td>5.116875</td>\n",
       "      <td>8306.041270</td>\n",
       "    </tr>\n",
       "    <tr>\n",
       "      <th>min</th>\n",
       "      <td>303.645417</td>\n",
       "      <td>-1.000000</td>\n",
       "      <td>0.00000</td>\n",
       "      <td>1.000000</td>\n",
       "      <td>-5.000000</td>\n",
       "      <td>0.000000</td>\n",
       "      <td>20.000000</td>\n",
       "      <td>0.000000</td>\n",
       "    </tr>\n",
       "    <tr>\n",
       "      <th>25%</th>\n",
       "      <td>1625.568229</td>\n",
       "      <td>3.000000</td>\n",
       "      <td>4.00000</td>\n",
       "      <td>8.000000</td>\n",
       "      <td>10.000000</td>\n",
       "      <td>3.000000</td>\n",
       "      <td>28.052567</td>\n",
       "      <td>30.306660</td>\n",
       "    </tr>\n",
       "    <tr>\n",
       "      <th>50%</th>\n",
       "      <td>3093.745000</td>\n",
       "      <td>6.000000</td>\n",
       "      <td>5.00000</td>\n",
       "      <td>13.000000</td>\n",
       "      <td>18.000000</td>\n",
       "      <td>6.000000</td>\n",
       "      <td>32.305784</td>\n",
       "      <td>69.249473</td>\n",
       "    </tr>\n",
       "    <tr>\n",
       "      <th>75%</th>\n",
       "      <td>5957.448333</td>\n",
       "      <td>7.000000</td>\n",
       "      <td>7.00000</td>\n",
       "      <td>20.000000</td>\n",
       "      <td>28.000000</td>\n",
       "      <td>9.000000</td>\n",
       "      <td>36.496663</td>\n",
       "      <td>161.224249</td>\n",
       "    </tr>\n",
       "    <tr>\n",
       "      <th>max</th>\n",
       "      <td>15204.633333</td>\n",
       "      <td>1798.000000</td>\n",
       "      <td>1499.00000</td>\n",
       "      <td>5797.000000</td>\n",
       "      <td>67.000000</td>\n",
       "      <td>2597.000000</td>\n",
       "      <td>50.000000</td>\n",
       "      <td>82331.000000</td>\n",
       "    </tr>\n",
       "  </tbody>\n",
       "</table>\n",
       "</div>"
      ],
      "text/plain": [
       "       Monthly_Inhand_Salary  Num_Bank_Accounts  Num_Credit_Card  \\\n",
       "count           84998.000000      100000.000000     100000.00000   \n",
       "mean             4194.170850          17.091280         22.47443   \n",
       "std              3183.686167         117.404834        129.05741   \n",
       "min               303.645417          -1.000000          0.00000   \n",
       "25%              1625.568229           3.000000          4.00000   \n",
       "50%              3093.745000           6.000000          5.00000   \n",
       "75%              5957.448333           7.000000          7.00000   \n",
       "max             15204.633333        1798.000000       1499.00000   \n",
       "\n",
       "       Interest_Rate  Delay_from_due_date  Num_Credit_Inquiries  \\\n",
       "count  100000.000000        100000.000000          98035.000000   \n",
       "mean       72.466040            21.068780             27.754251   \n",
       "std       466.422621            14.860104            193.177339   \n",
       "min         1.000000            -5.000000              0.000000   \n",
       "25%         8.000000            10.000000              3.000000   \n",
       "50%        13.000000            18.000000              6.000000   \n",
       "75%        20.000000            28.000000              9.000000   \n",
       "max      5797.000000            67.000000           2597.000000   \n",
       "\n",
       "       Credit_Utilization_Ratio  Total_EMI_per_month  \n",
       "count             100000.000000        100000.000000  \n",
       "mean                  32.285173          1403.118217  \n",
       "std                    5.116875          8306.041270  \n",
       "min                   20.000000             0.000000  \n",
       "25%                   28.052567            30.306660  \n",
       "50%                   32.305784            69.249473  \n",
       "75%                   36.496663           161.224249  \n",
       "max                   50.000000         82331.000000  "
      ]
     },
     "execution_count": 7,
     "metadata": {},
     "output_type": "execute_result"
    }
   ],
   "source": [
    "train.describe()"
   ]
  },
  {
   "cell_type": "code",
   "execution_count": 8,
   "id": "a4b8dc1d",
   "metadata": {},
   "outputs": [
    {
     "data": {
      "application/vnd.microsoft.datawrangler.viewer.v0+json": {
       "columns": [
        {
         "name": "index",
         "rawType": "object",
         "type": "string"
        },
        {
         "name": "0",
         "rawType": "int64",
         "type": "integer"
        }
       ],
       "ref": "56862d24-8bcb-49b7-9e50-b9b8f6b00316",
       "rows": [
        [
         "ID",
         "0"
        ],
        [
         "Customer_ID",
         "0"
        ],
        [
         "Month",
         "0"
        ],
        [
         "Name",
         "9985"
        ],
        [
         "Age",
         "0"
        ],
        [
         "SSN",
         "0"
        ],
        [
         "Occupation",
         "0"
        ],
        [
         "Annual_Income",
         "0"
        ],
        [
         "Monthly_Inhand_Salary",
         "15002"
        ],
        [
         "Num_Bank_Accounts",
         "0"
        ],
        [
         "Num_Credit_Card",
         "0"
        ],
        [
         "Interest_Rate",
         "0"
        ],
        [
         "Num_of_Loan",
         "0"
        ],
        [
         "Type_of_Loan",
         "11408"
        ],
        [
         "Delay_from_due_date",
         "0"
        ],
        [
         "Num_of_Delayed_Payment",
         "7002"
        ],
        [
         "Changed_Credit_Limit",
         "0"
        ],
        [
         "Num_Credit_Inquiries",
         "1965"
        ],
        [
         "Credit_Mix",
         "0"
        ],
        [
         "Outstanding_Debt",
         "0"
        ],
        [
         "Credit_Utilization_Ratio",
         "0"
        ],
        [
         "Credit_History_Age",
         "9030"
        ],
        [
         "Payment_of_Min_Amount",
         "0"
        ],
        [
         "Total_EMI_per_month",
         "0"
        ],
        [
         "Amount_invested_monthly",
         "4479"
        ],
        [
         "Payment_Behaviour",
         "0"
        ],
        [
         "Monthly_Balance",
         "1200"
        ],
        [
         "Credit_Score",
         "0"
        ]
       ],
       "shape": {
        "columns": 1,
        "rows": 28
       }
      },
      "text/plain": [
       "ID                              0\n",
       "Customer_ID                     0\n",
       "Month                           0\n",
       "Name                         9985\n",
       "Age                             0\n",
       "SSN                             0\n",
       "Occupation                      0\n",
       "Annual_Income                   0\n",
       "Monthly_Inhand_Salary       15002\n",
       "Num_Bank_Accounts               0\n",
       "Num_Credit_Card                 0\n",
       "Interest_Rate                   0\n",
       "Num_of_Loan                     0\n",
       "Type_of_Loan                11408\n",
       "Delay_from_due_date             0\n",
       "Num_of_Delayed_Payment       7002\n",
       "Changed_Credit_Limit            0\n",
       "Num_Credit_Inquiries         1965\n",
       "Credit_Mix                      0\n",
       "Outstanding_Debt                0\n",
       "Credit_Utilization_Ratio        0\n",
       "Credit_History_Age           9030\n",
       "Payment_of_Min_Amount           0\n",
       "Total_EMI_per_month             0\n",
       "Amount_invested_monthly      4479\n",
       "Payment_Behaviour               0\n",
       "Monthly_Balance              1200\n",
       "Credit_Score                    0\n",
       "dtype: int64"
      ]
     },
     "execution_count": 8,
     "metadata": {},
     "output_type": "execute_result"
    }
   ],
   "source": [
    "train.isnull().sum()"
   ]
  },
  {
   "cell_type": "markdown",
   "id": "1cfbdbfc",
   "metadata": {},
   "source": [
    "- **'Name'** Missing values: 9985 -> ignore that because we will drop the column anyway.\n",
    "- **'Monthly_Inhand_Salary'** Missing values: 15002 -> We can group customers by their jobs and take the mean of monthly salary then fill the null values with.\n",
    "- **'Type_of_Loan'** Missing values: 11408 -> we can fill with the most commen loan. and the pepole with range age 20 - 25  fill with 'Student Loan' and check for his job.\n",
    "- **'Num_of_Delayed_Payment'** Missing values: 7002 -> \n",
    "- **'Num_Credit_Inquiries'** Missing values: 1965 -> \n",
    "- **'Credit_History_Age'** Missing values: 9030 -> \n",
    "- **'Amount_invested_monthly'** Missing values: 4479 -> \n",
    "- **'Monthly_Balance'** Missing values: 1200 -> "
   ]
  },
  {
   "cell_type": "code",
   "execution_count": 9,
   "id": "d47708e2",
   "metadata": {},
   "outputs": [
    {
     "data": {
      "text/plain": [
       "0"
      ]
     },
     "execution_count": 9,
     "metadata": {},
     "output_type": "execute_result"
    }
   ],
   "source": [
    "train.duplicated().sum()"
   ]
  },
  {
   "cell_type": "markdown",
   "id": "8e481fbb",
   "metadata": {},
   "source": [
    "Check the unknown symbols and unclean data, and wrong patterns to handle them."
   ]
  },
  {
   "cell_type": "code",
   "execution_count": 10,
   "id": "be24f053",
   "metadata": {},
   "outputs": [],
   "source": [
    "int_cols = train.select_dtypes(include=['int64', 'float64']).columns"
   ]
  },
  {
   "cell_type": "code",
   "execution_count": 18,
   "id": "71b29037",
   "metadata": {},
   "outputs": [
    {
     "name": "stdout",
     "output_type": "stream",
     "text": [
      "Column: Month\n",
      "Unique values: ['January' 'February' 'March' 'April' 'May' 'June' 'July' 'August']\n",
      "Missing values: 0\n",
      "--------------------------------------------------\n",
      "Column: Name\n",
      "Unique values: ['Aaron Maashoh' nan 'Rick Rothackerj' 'Langep' 'Jasond' 'Deepaa' 'Np'\n",
      " 'Nadiaq' 'Annk' 'Charlie Zhur']\n",
      "Missing values: 9985\n",
      "--------------------------------------------------\n",
      "Column: Age\n",
      "Unique values: ['23' '-500' '28_' '28' '34' '54' '55' '21' '31' '33']\n",
      "Missing values: 0\n",
      "--------------------------------------------------\n",
      "Column: Occupation\n",
      "Unique values: ['Scientist' '_______' 'Teacher' 'Engineer' 'Entrepreneur' 'Developer'\n",
      " 'Lawyer' 'Media_Manager' 'Doctor' 'Journalist']\n",
      "Missing values: 0\n",
      "--------------------------------------------------\n",
      "Column: Annual_Income\n",
      "Unique values: ['19114.12' '34847.84' '34847.84_' '143162.64' '30689.89' '30689.89_'\n",
      " '35547.71_' '35547.71' '73928.46' '131313.4']\n",
      "Missing values: 0\n",
      "--------------------------------------------------\n",
      "Column: Num_of_Loan\n",
      "Unique values: ['4' '1' '3' '967' '-100' '0' '0_' '2' '3_' '2_']\n",
      "Missing values: 0\n",
      "--------------------------------------------------\n",
      "Column: Type_of_Loan\n",
      "Unique values: ['Auto Loan, Credit-Builder Loan, Personal Loan, and Home Equity Loan'\n",
      " 'Credit-Builder Loan' 'Auto Loan, Auto Loan, and Not Specified'\n",
      " 'Not Specified' nan 'Credit-Builder Loan, and Mortgage Loan'\n",
      " 'Not Specified, Auto Loan, and Student Loan'\n",
      " 'Personal Loan, Debt Consolidation Loan, and Auto Loan'\n",
      " 'Not Specified, and Payday Loan'\n",
      " 'Credit-Builder Loan, Personal Loan, and Auto Loan']\n",
      "Missing values: 11408\n",
      "--------------------------------------------------\n",
      "Column: Num_of_Delayed_Payment\n",
      "Unique values: ['7' nan '4' '8_' '6' '1' '-1' '3_' '0' '8']\n",
      "Missing values: 7002\n",
      "--------------------------------------------------\n",
      "Column: Changed_Credit_Limit\n",
      "Unique values: ['11.27' '_' '6.27' '9.27' '5.42' '7.42' '6.42' '7.1' '11.1' '9.1']\n",
      "Missing values: 0\n",
      "--------------------------------------------------\n",
      "Column: Credit_Mix\n",
      "Unique values: ['_' 'Good' 'Standard' 'Bad']\n",
      "Missing values: 0\n",
      "--------------------------------------------------\n",
      "Column: Outstanding_Debt\n",
      "Unique values: ['809.98' '605.03' '1303.01' '632.46' '943.86' '548.2' '352.16' '1704.18'\n",
      " '1377.74' '421.43']\n",
      "Missing values: 0\n",
      "--------------------------------------------------\n",
      "Column: Credit_History_Age\n",
      "Unique values: ['22 Years and 1 Months' nan '22 Years and 3 Months'\n",
      " '22 Years and 4 Months' '22 Years and 5 Months' '22 Years and 6 Months'\n",
      " '22 Years and 7 Months' '26 Years and 7 Months' '26 Years and 8 Months'\n",
      " '26 Years and 9 Months']\n",
      "Missing values: 9030\n",
      "--------------------------------------------------\n",
      "Column: Payment_of_Min_Amount\n",
      "Unique values: ['No' 'NM' 'Yes']\n",
      "Missing values: 0\n",
      "--------------------------------------------------\n",
      "Column: Amount_invested_monthly\n",
      "Unique values: ['80.41529543900253' '118.28022162236736' '81.699521264648'\n",
      " '199.4580743910713' '41.420153086217326' '62.430172331195294'\n",
      " '178.3440674122349' '24.785216509052056' '104.291825168246'\n",
      " '40.39123782853101']\n",
      "Missing values: 4479\n",
      "--------------------------------------------------\n",
      "Column: Payment_Behaviour\n",
      "Unique values: ['High_spent_Small_value_payments' 'Low_spent_Large_value_payments'\n",
      " 'Low_spent_Medium_value_payments' 'Low_spent_Small_value_payments'\n",
      " 'High_spent_Medium_value_payments' '!@9#%8'\n",
      " 'High_spent_Large_value_payments']\n",
      "Missing values: 0\n",
      "--------------------------------------------------\n",
      "Column: Monthly_Balance\n",
      "Unique values: ['312.49408867943663' '284.62916249607184' '331.2098628537912'\n",
      " '223.45130972736786' '341.48923103222177' '340.4792117872438'\n",
      " '244.5653167062043' '358.12416760938714' '470.69062692529184'\n",
      " '484.5912142650067']\n",
      "Missing values: 1200\n",
      "--------------------------------------------------\n",
      "Column: Credit_Score\n",
      "Unique values: ['Good' 'Standard' 'Poor']\n",
      "Missing values: 0\n",
      "--------------------------------------------------\n"
     ]
    }
   ],
   "source": [
    "list_of_cols = [col for col in train.columns if col not in ['ID', 'Customer_ID', 'SSN'] + list(int_cols)]\n",
    "\n",
    "for col in list_of_cols:\n",
    "    if train[col].dtype == 'object':\n",
    "        print(f\"Column: {col}\")\n",
    "        print(f\"Unique values: {train[col].unique()[:10]}\")\n",
    "        print(f\"Missing values: {train[col].isnull().sum()}\")\n",
    "        print(\"-\" * 50)"
   ]
  },
  {
   "cell_type": "code",
   "execution_count": 12,
   "id": "973c03e2",
   "metadata": {},
   "outputs": [],
   "source": [
    "check_cols = ['Monthly_Balance', 'Amount_invested_monthly', 'Outstanding_Debt']"
   ]
  },
  {
   "cell_type": "code",
   "execution_count": 13,
   "id": "6db5c8e2",
   "metadata": {},
   "outputs": [
    {
     "name": "stdout",
     "output_type": "stream",
     "text": [
      "Column: Monthly_Balance\n",
      "Non-numeric values: [nan '__-333333333333333333333333333__']\n",
      "--------------------------------------------------\n",
      "Column: Amount_invested_monthly\n",
      "Non-numeric values: ['__10000__' nan]\n",
      "--------------------------------------------------\n",
      "Column: Outstanding_Debt\n",
      "Non-numeric values: ['1328.93_' '1283.37_' '2797.17_' '3818.57_' '343.84_' '363.51_' '404.51_'\n",
      " '1755.81_' '2593.44_' '89.62_']\n",
      "--------------------------------------------------\n"
     ]
    }
   ],
   "source": [
    "for col in check_cols:\n",
    "    # Print unique non-numeric values in each column\n",
    "    non_numeric = train[~train[col].astype(str).str.replace('.', '', 1).str.replace('-', '', 1).str.isdigit()][col].unique()[:10]\n",
    "    print(f\"Column: {col}\")\n",
    "    print(f\"Non-numeric values: {non_numeric}\")\n",
    "    print(\"-\" * 50)"
   ]
  },
  {
   "cell_type": "code",
   "execution_count": 17,
   "id": "e82f3663",
   "metadata": {},
   "outputs": [
    {
     "name": "stdout",
     "output_type": "stream",
     "text": [
      "\n",
      "Column: Age\n",
      "Invalid values found:\n",
      "['28_' '34_' '30_' '24_' '33_' '35_' '31_' '40_' '37_' '54_' '21_' '20_'\n",
      " '43_' '38_' '18_' '2111_' '46_' '16_' '19_' '47_' '53_' '25_' '27_' '55_'\n",
      " '42_' '48_' '49_' '50_' '32_' '22_' '17_' '29_' '15_' '51_' '26_' '39_'\n",
      " '14_' '36_' '44_' '7670_' '45_' '23_' '41_' '52_' '733_' '5769_' '4383_'\n",
      " '56_' '2650_' '3307_' '6962_' '5589_' '6556_' '1447_' '8153_' '3834_'\n",
      " '6744_' '6471_' '7723_' '7640_' '6408_' '3502_' '7316_' '1102_' '8669_'\n",
      " '2463_' '6666_' '3055_' '1248_' '2220_' '2159_' '4583_' '3988_' '2155_'\n",
      " '6770_' '1843_' '1367_' '3742_' '2171_' '5109_' '3984_' '2474_' '5046_'\n",
      " '7715_' '2329_' '707_' '844_' '2756_' '2037_' '902_' '8523_' '3640_'\n",
      " '3998_' '3712_' '2097_' '8348_' '5373_' '3291_' '2994_' '3339_' '2812_'\n",
      " '3578_' '3564_' '1794_' '737_' '4301_' '2846_' '2373_' '1188_' '8207_'\n",
      " '5909_' '6381_' '8616_' '6799_' '1591_' '3775_' '6564_' '7122_' '4913_'\n",
      " '5697_' '3843_' '4445_' '6921_' '780_' '1070_' '5798_' '4808_']\n",
      "Number of invalid entries: 4939\n",
      "--------------------------------------------------\n",
      "\n",
      "Column: Annual_Income\n",
      "Invalid values found:\n",
      "['34847.84_' '30689.89_' '35547.71_' ... '16680.35_' '37188.1_'\n",
      " '39628.99_']\n",
      "Number of invalid entries: 6980\n",
      "--------------------------------------------------\n",
      "\n",
      "Column: Num_of_Loan\n",
      "Invalid values found:\n",
      "['0_' '3_' '2_' '5_' '8_' '9_' '4_' '7_' '1_' '6_' '597_' '92_' '1347_'\n",
      " '1185_' '235_' '1459_' '1320_' '630_' '359_' '1225_' '131_' '1311_'\n",
      " '1129_' '785_' '143_' '1131_' '27_' '1171_' '227_' '378_' '1219_' '527_'\n",
      " '1027_' '696_' '1132_']\n",
      "Number of invalid entries: 4785\n",
      "--------------------------------------------------\n",
      "\n",
      "Column: Num_of_Delayed_Payment\n",
      "Invalid values found:\n",
      "['8_' '3_' '2_' '13_' '14_' '12_' '22_' '4_' '11_' '21_' '10_' '183_' '9_'\n",
      " '19_' '24_' '17_' '23_' '20_' '6_' '1_' '16_' '15_' '26_' '18_' '5_'\n",
      " '25_' '7_' '0_' '2569_' '27_' '663_' '-2_' '28_' '-1_' '1323_' '2794_'\n",
      " '2219_' '758_' '-3_' '848_' '2237_' '3097_' '2566_' '3840_' '2278_'\n",
      " '1087_' '1295_' '3861_' '2142_' '1473_' '3920_']\n",
      "Number of invalid entries: 2744\n",
      "--------------------------------------------------\n",
      "\n",
      "Column: Changed_Credit_Limit\n",
      "Invalid values found:\n",
      "['_']\n",
      "Number of invalid entries: 2091\n",
      "--------------------------------------------------\n",
      "\n",
      "Column: Outstanding_Debt\n",
      "Invalid values found:\n",
      "['1328.93_' '1283.37_' '2797.17_' '3818.57_' '343.84_' '363.51_' '404.51_'\n",
      " '1755.81_' '2593.44_' '89.62_' '1054.86_' '1374.23_' '1166.47_' '457.81_'\n",
      " '1684.06_' '1126.35_' '2098.83_' '761.18_' '1343.01_' '1342.61_'\n",
      " '1435.94_' '2354.21_' '1319.87_' '821.27_' '3271.84_' '465.04_' '218.25_'\n",
      " '1274.59_' '1033.59_' '642.42_' '94.75_' '4145.87_' '328.41_' '4813.02_'\n",
      " '477.41_' '165.88_' '1286.68_' '128.33_' '2106.68_' '3078.82_' '634.77_'\n",
      " '878.19_' '2518.51_' '1235.48_' '669.35_' '240.6_' '70.66_' '3099.57_'\n",
      " '486.48_' '1124.37_' '152.6_' '1716.82_' '886.09_' '1370.48_' '640.4_'\n",
      " '484.43_' '1417.89_' '1539.61_' '2517.0_' '539.59_' '802.47_' '289.1_'\n",
      " '4542.88_' '590.85_' '155.2_' '697.86_' '825.25_' '1644.31_' '960.38_'\n",
      " '282.06_' '985.01_' '1491.56_' '3723.83_' '1350.6_' '1248.05_' '3531.62_'\n",
      " '1017.45_' '60.04_' '2468.2_' '2234.83_' '1073.76_' '4972.01_' '2107.76_'\n",
      " '3754.18_' '3656.46_' '291.71_' '281.42_' '1251.25_' '47.18_' '381.06_'\n",
      " '174.79_' '4375.21_' '1412.35_' '2296.23_' '1023.62_' '1912.96_'\n",
      " '221.86_' '3090.08_' '1474.32_' '396.97_' '1457.54_' '479.81_' '1675.0_'\n",
      " '3513.87_' '1202.05_' '698.05_' '83.96_' '500.24_' '50.93_' '227.12_'\n",
      " '1172.87_' '2817.77_' '3257.62_' '1331.37_' '1729.78_' '1304.45_'\n",
      " '1393.23_' '839.1_' '82.36_' '1042.25_' '1155.94_' '2818.83_' '754.55_'\n",
      " '679.2_' '1393.85_' '1358.96_' '1200.53_' '1721.85_' '929.51_' '1353.06_'\n",
      " '1184.81_' '1078.95_' '321.76_' '4735.18_' '288.92_' '163.11_' '1150.03_'\n",
      " '2589.63_' '2554.65_' '289.59_' '364.35_' '328.91_' '202.68_' '1372.21_'\n",
      " '4010.91_' '1170.65_' '664.2_' '651.92_' '1103.08_' '1275.32_' '1051.51_'\n",
      " '3445.84_' '1052.21_' '4401.57_' '233.93_' '3980.49_' '305.84_'\n",
      " '2550.65_' '506.93_' '1427.03_' '1274.63_' '743.65_' '1438.69_'\n",
      " '1265.83_' '702.16_' '755.17_' '3084.5_' '1619.22_' '2080.28_' '1109.03_'\n",
      " '905.18_' '1189.51_' '684.03_' '2162.63_' '773.94_' '108.67_' '3057.46_'\n",
      " '1398.28_' '1112.8_' '4.61_' '951.78_' '2154.6_' '1279.86_' '865.3_'\n",
      " '65.59_' '313.97_' '880.43_' '718.95_' '2680.87_' '1389.92_' '849.02_'\n",
      " '1216.59_' '572.55_' '2549.27_' '135.37_' '891.96_' '2196.59_' '3951.34_'\n",
      " '656.7_' '790.99_' '874.44_' '924.21_' '153.99_' '1328.9_' '2405.43_'\n",
      " '816.95_' '2289.38_' '823.66_' '96.62_' '1477.83_' '1773.45_' '695.45_'\n",
      " '3093.39_' '2570.66_' '1076.67_' '4525.41_' '502.35_' '554.82_' '783.52_'\n",
      " '2550.26_' '1238.06_' '250.56_' '60.25_' '1269.66_' '2447.81_' '137.68_'\n",
      " '3019.17_' '375.51_' '2460.77_' '2393.94_' '3356.86_' '3600.06_'\n",
      " '678.58_' '678.53_' '1366.18_' '2598.21_' '1571.84_' '1199.47_'\n",
      " '1434.75_' '1427.36_' '4896.28_' '3665.2_' '883.9_' '2444.84_' '4607.43_'\n",
      " '300.7_' '1382.56_' '171.45_' '529.84_' '725.53_' '187.21_' '1281.77_'\n",
      " '405.45_' '270.42_' '647.15_' '1340.52_' '1639.82_' '1287.97_' '872.16_'\n",
      " '1584.95_' '2748.82_' '1305.12_' '1169.13_' '1289.91_' '2914.68_'\n",
      " '4622.5_' '186.6_' '465.86_' '1552.71_' '2896.95_' '188.33_' '330.68_'\n",
      " '182.91_' '1478.07_' '1477.46_' '822.72_' '1014.5_' '884.18_' '1539.17_'\n",
      " '629.16_' '1490.48_' '2255.57_' '113.42_' '994.53_' '4381.33_' '3523.03_'\n",
      " '28.15_' '1873.53_' '499.1_' '1054.9_' '566.98_' '2461.32_' '2052.35_'\n",
      " '3421.09_' '1264.42_' '1617.55_' '891.64_' '66.47_' '1324.1_' '1306.74_'\n",
      " '1519.71_' '895.2_' '1151.7_' '484.16_' '2781.03_' '2268.36_' '830.07_'\n",
      " '1136.85_' '2193.11_' '431.39_' '1025.3_' '2170.62_' '4106.5_' '587.02_'\n",
      " '339.47_' '4247.2_' '3917.82_' '3990.44_' '693.39_' '310.76_' '1774.51_'\n",
      " '1286.42_' '674.41_' '1464.74_' '517.07_' '4525.71_' '393.52_' '530.96_'\n",
      " '645.77_' '1160.42_' '3252.14_' '1746.37_' '1234.91_' '3114.29_' '59.17_'\n",
      " '2987.02_' '1074.99_' '4974.81_' '715.18_' '53.79_' '1256.67_' '922.89_'\n",
      " '466.36_' '533.41_' '650.47_' '659.68_' '1223.0_' '281.77_' '1393.19_'\n",
      " '2829.78_' '163.32_' '246.06_' '442.63_' '1036.4_' '1270.65_' '1319.74_'\n",
      " '776.31_' '1032.13_' '2286.31_' '1559.16_' '577.4_' '1046.3_' '446.31_'\n",
      " '4572.01_' '597.32_' '1255.55_' '473.15_' '2694.09_' '457.32_' '1533.48_'\n",
      " '1290.06_' '2352.38_' '369.7_' '1179.95_' '4319.35_' '1745.84_' '1422.8_'\n",
      " '805.95_' '137.95_' '1753.33_' '1460.07_' '412.52_' '1443.54_' '810.8_'\n",
      " '2663.62_' '2553.1_' '3777.68_' '2563.0_' '2695.77_' '1078.64_'\n",
      " '1274.12_' '2127.78_' '3331.54_' '820.04_' '4254.78_' '1261.71_'\n",
      " '2010.01_' '493.42_' '153.48_' '272.6_' '1885.3_' '37.71_' '854.02_'\n",
      " '601.76_' '645.24_' '2050.42_' '2483.98_' '714.54_' '653.37_' '2301.93_'\n",
      " '547.05_' '1308.67_' '1571.26_' '28.85_' '274.48_' '1204.86_' '1034.08_'\n",
      " '3830.47_' '2735.13_' '1364.64_' '4108.42_' '990.39_' '1215.11_'\n",
      " '4151.04_' '1348.66_' '336.54_' '1013.53_' '1472.86_' '1909.03_'\n",
      " '3270.39_' '860.37_' '290.39_' '2866.5_' '1192.4_' '1246.97_' '711.8_'\n",
      " '1376.25_' '3549.71_' '4598.96_' '1977.54_' '4632.72_' '655.05_'\n",
      " '2559.02_' '453.4_' '777.89_' '864.67_' '2032.49_' '1257.27_' '1171.51_'\n",
      " '364.08_' '3509.08_' '693.37_' '1330.29_' '1200.93_' '1205.02_' '889.46_'\n",
      " '412.53_' '1374.76_' '1020.27_' '888.02_' '586.55_' '402.23_' '124.1_'\n",
      " '651.79_' '1463.48_' '2159.47_' '3080.03_' '809.86_' '1793.37_' '447.18_'\n",
      " '154.63_' '98.81_' '2236.0_' '3143.12_' '176.96_' '299.8_' '2563.31_'\n",
      " '1616.26_' '1181.13_' '245.46_' '1278.12_' '3011.81_' '379.73_' '384.22_'\n",
      " '149.92_' '675.51_' '2077.81_' '3645.73_' '1481.35_' '2813.15_' '785.19_'\n",
      " '1811.96_' '2362.56_' '1221.11_' '1385.21_' '418.24_' '1600.43_'\n",
      " '1075.37_' '1455.38_' '1056.32_' '639.32_' '2261.01_' '1369.84_'\n",
      " '595.44_' '1190.45_' '74.04_' '1112.47_' '3072.15_' '405.99_' '606.48_'\n",
      " '1603.52_' '3781.47_' '881.24_' '2802.45_' '1071.33_' '2490.34_'\n",
      " '1367.94_' '3313.55_' '1695.41_' '1080.98_' '4733.81_' '1587.62_'\n",
      " '1948.99_' '1250.01_' '1732.94_' '899.28_' '1438.65_' '1543.16_'\n",
      " '1883.54_' '469.39_' '968.19_' '10.55_' '64.66_' '340.65_' '2918.16_'\n",
      " '868.83_' '814.52_' '2683.21_' '1077.27_' '3346.41_' '1671.15_'\n",
      " '1067.77_' '757.74_' '385.83_' '1496.11_' '4648.32_' '542.35_' '140.57_'\n",
      " '1154.49_' '2575.62_' '465.88_' '159.41_' '2651.74_' '3152.24_'\n",
      " '2074.85_' '636.43_' '911.67_' '1344.25_' '1082.86_' '4709.03_' '707.43_'\n",
      " '201.05_' '1420.04_' '1752.55_' '1326.06_' '792.46_' '297.64_' '2375.63_'\n",
      " '1619.56_' '432.53_' '669.47_' '2654.31_' '600.66_' '724.81_' '1163.48_'\n",
      " '1405.42_' '106.28_' '638.57_' '3051.99_' '48.42_' '334.24_' '695.19_'\n",
      " '3530.13_' '78.41_' '2899.67_' '3659.35_' '601.78_' '261.59_' '1382.94_'\n",
      " '780.59_' '625.84_' '1096.06_' '2044.39_' '340.16_' '82.6_' '335.3_'\n",
      " '2115.47_' '91.34_' '233.83_' '1246.99_' '1425.23_' '2245.8_' '1066.48_'\n",
      " '3651.35_' '897.82_' '2646.26_' '771.0_' '425.17_' '1302.82_' '2986.89_'\n",
      " '2153.66_' '1472.91_' '90.89_' '1064.61_' '103.86_' '4854.6_' '1180.91_'\n",
      " '4770.24_' '37.21_' '838.13_' '1722.61_' '758.45_' '464.4_' '2552.26_'\n",
      " '1150.54_' '1874.2_' '1188.75_' '1231.39_' '340.22_' '1570.89_'\n",
      " '1116.03_' '1386.36_' '239.33_' '1121.05_' '250.99_' '330.47_' '2783.29_'\n",
      " '1549.11_' '1133.1_' '64.69_' '863.48_' '4416.93_' '460.46_' '587.16_'\n",
      " '1625.55_' '3077.57_' '234.47_' '110.19_' '459.86_' '1820.55_' '1452.74_'\n",
      " '4931.01_' '568.61_' '1190.67_' '282.08_' '125.33_' '1023.49_' '1383.88_'\n",
      " '2552.06_' '1140.58_' '2048.13_' '1288.02_' '1181.44_' '1059.46_'\n",
      " '1621.69_' '954.65_' '367.77_' '1583.58_' '1959.49_' '3562.24_'\n",
      " '1055.36_' '921.35_' '1438.18_' '59.58_' '725.13_' '754.8_' '912.63_'\n",
      " '836.67_' '1450.15_' '2660.96_' '3145.39_' '1285.51_' '2779.34_'\n",
      " '1268.49_' '2911.44_' '1176.76_' '3991.35_' '1506.93_' '1048.02_'\n",
      " '1751.09_' '387.39_' '307.19_' '1392.95_' '1490.29_' '1039.62_' '248.71_'\n",
      " '157.85_' '735.75_' '605.35_' '4078.71_' '1447.09_' '518.86_' '1240.45_'\n",
      " '1216.31_' '926.62_' '695.46_' '281.84_' '1476.59_' '210.01_' '761.2_'\n",
      " '345.22_' '1442.28_' '1080.51_' '3398.95_' '915.78_' '1708.53_'\n",
      " '1178.78_' '2235.81_' '4417.41_' '1250.71_' '330.21_' '217.5_' '27.19_'\n",
      " '667.56_' '953.87_' '1677.29_' '80.09_' '2395.39_' '4461.39_' '1332.7_'\n",
      " '463.59_' '2196.5_' '1061.06_' '2150.61_' '443.32_' '334.63_' '39.28_'\n",
      " '3783.35_' '1337.34_' '1450.47_' '1161.51_' '2537.45_' '2318.76_'\n",
      " '4106.36_' '1566.55_' '437.45_' '1151.35_' '661.03_' '719.76_' '366.46_'\n",
      " '598.76_' '263.49_' '542.56_' '1254.45_' '1457.03_' '966.07_' '996.96_'\n",
      " '836.95_' '1125.03_' '2334.98_' '1438.91_' '438.74_' '315.39_' '382.17_'\n",
      " '1082.56_' '300.47_' '183.3_' '4597.44_' '1179.64_' '2103.16_' '52.07_'\n",
      " '2083.35_' '1891.76_' '418.89_' '655.52_' '41.35_' '1461.64_' '954.44_'\n",
      " '706.22_' '1816.7_' '1254.14_' '731.37_' '1310.56_' '303.23_' '93.93_'\n",
      " '726.75_' '583.73_' '1882.8_' '3783.14_' '50.13_' '1673.76_' '1306.3_'\n",
      " '4355.7_' '23.64_' '4921.57_' '2577.55_' '99.33_' '105.89_' '344.46_'\n",
      " '624.01_' '2618.46_' '745.43_' '1209.6_' '390.98_' '1402.23_' '2630.82_'\n",
      " '534.08_' '876.74_' '835.14_' '2256.77_' '923.5_' '156.14_' '692.75_'\n",
      " '3470.89_' '932.69_' '1887.08_' '852.74_' '4953.29_' '2595.94_' '25.16_'\n",
      " '991.98_' '146.68_' '2781.7_' '1333.49_' '1249.18_' '585.36_' '1449.78_'\n",
      " '731.05_' '422.57_' '817.66_' '1155.21_' '370.22_' '102.46_' '1043.22_'\n",
      " '1433.49_' '780.26_' '4948.46_' '738.15_' '342.3_' '69.03_' '4194.87_'\n",
      " '551.36_' '789.03_' '2607.71_' '1045.77_' '1154.16_' '173.84_' '696.74_'\n",
      " '194.4_' '435.89_' '431.41_' '347.01_' '451.12_' '1378.2_' '1351.51_'\n",
      " '327.43_' '378.11_' '430.64_' '407.44_' '747.26_' '714.69_' '1442.1_'\n",
      " '3842.25_' '1756.68_' '3360.92_' '443.19_' '561.21_' '613.93_' '1096.02_'\n",
      " '1360.66_' '3988.4_' '3025.44_' '1379.19_' '1480.12_' '708.2_' '2953.79_'\n",
      " '314.56_' '2693.61_' '619.5_' '4787.13_' '1342.51_' '406.94_' '1090.21_'\n",
      " '2517.66_' '1933.79_' '1012.23_' '640.78_' '1182.19_' '636.65_'\n",
      " '1799.87_' '3190.38_' '708.27_' '562.05_' '42.69_' '1276.23_' '272.17_'\n",
      " '1361.45_' '3813.3_' '1077.91_' '2699.17_' '625.89_' '732.33_' '2608.97_'\n",
      " '828.7_' '66.93_' '2027.76_' '1104.44_' '110.71_' '285.29_' '1938.26_'\n",
      " '654.12_' '1464.77_' '512.83_' '1392.71_' '64.47_' '412.38_' '544.82_'\n",
      " '1233.96_' '3515.45_' '170.53_' '258.04_' '1325.41_' '373.74_' '1198.78_'\n",
      " '1347.95_' '97.33_' '506.71_' '1368.62_' '4671.72_' '291.67_' '4986.03_'\n",
      " '450.79_' '3530.46_' '86.68_' '16.45_' '132.87_' '127.88_' '3375.66_'\n",
      " '1351.26_' '121.26_' '502.78_' '30.31_' '1286.57_' '673.32_' '2130.22_'\n",
      " '4137.37_' '1258.59_' '1167.75_' '3332.8_' '558.21_' '741.68_' '1127.98_'\n",
      " '427.68_' '860.91_' '970.11_' '327.48_' '1203.25_' '711.08_' '773.2_'\n",
      " '335.69_' '3176.77_' '1394.91_' '1475.23_' '1429.96_' '4241.52_'\n",
      " '1321.46_' '470.42_' '111.75_' '494.51_' '807.65_' '4138.67_' '1095.9_'\n",
      " '1350.85_' '1453.61_' '3571.7_']\n",
      "Number of invalid entries: 1009\n",
      "--------------------------------------------------\n",
      "\n",
      "Column: Amount_invested_monthly\n",
      "Invalid values found:\n",
      "['__10000__']\n",
      "Number of invalid entries: 4305\n",
      "--------------------------------------------------\n",
      "\n",
      "Column: Monthly_Balance\n",
      "Invalid values found:\n",
      "['__-333333333333333333333333333__']\n",
      "Number of invalid entries: 9\n",
      "--------------------------------------------------\n"
     ]
    }
   ],
   "source": [
    "integer_columns = ['Age', 'Annual_Income', 'Num_of_Loan','Num_of_Delayed_Payment', \n",
    "                   'Changed_Credit_Limit','Outstanding_Debt', 'Amount_invested_monthly', 'Monthly_Balance']\n",
    "\n",
    "for col in integer_columns:\n",
    "    # Coerce conversion to numeric (invalid parsing becomes NaN)\n",
    "    coerced = pd.to_numeric(train[col], errors='coerce')\n",
    "    \n",
    "    # Mask where original value is not numeric but not NaN in original column\n",
    "    mask = coerced.isna() & train[col].notna()\n",
    "    \n",
    "    invalid_values = train.loc[mask, col].unique()\n",
    "    \n",
    "    print(f\"\\nColumn: {col}\")\n",
    "    print(\"Invalid values found:\")\n",
    "    print(invalid_values)\n",
    "    print(f\"Number of invalid entries: {mask.sum()}\")\n",
    "    print(\"-\" * 50)\n"
   ]
  },
  {
   "cell_type": "markdown",
   "id": "856f5ec0",
   "metadata": {},
   "source": [
    "#### > Handling Underscore (`_`) Symbols in Columns\n",
    "\n",
    "The dataset contains underscore (`_`) symbols in various columns. These symbols should be either removed or replaced with appropriate values based on the context of each column.\n",
    "\n",
    "#### > Column-wise Cleaning Strategy\n",
    "\n",
    "- **Age** : Remove `_`\n",
    "- **Occupation** : Remove `_` or fill with `NULL`\n",
    "- **Annual_Income** : Remove `_` or fill with `NULL` if there is no numeric value\n",
    "- **Num_of_Loan** : Remove `_` or fill with `NULL` if there is no numeric value\n",
    "- **Num_of_Delayed_Payment** : Remove `_` or fill with `NULL` if there is no numeric value\n",
    "- **Changed_Credit_Limit** : Remove `_` or fill with `NULL` if there is no numeric value\n",
    "- **Credit_Mix** : Fill `_` with `NULL`\n",
    "- **Monthly_Balance** : Remove `_` or fill with `NULL` if there is no numeric value\n",
    "- **Amount_invested_monthly** : Remove `_` or fill with `NULL` if there is no numeric value\n",
    "- **Outstanding_Debt** : Remove `_` or fill with `NULL` if there is no numeric value"
   ]
  },
  {
   "cell_type": "markdown",
   "id": "2920b82c",
   "metadata": {},
   "source": [
    "#### > Additional EDA insights:\n",
    "\n",
    "- **Type_of_Loan** : Contains long strings with multiple loan types. These should be converted into a list of individual loan types.\n",
    "\n",
    "  **Ex**:  `\"Auto Loan, and Student Loan\"` → `['Auto Loan', 'Student Loan']`\n",
    "\n",
    "- **Age** : has un logcal values "
   ]
  },
  {
   "cell_type": "markdown",
   "id": "efc471af",
   "metadata": {},
   "source": [
    "## `ii` Visual Analysis"
   ]
  },
  {
   "cell_type": "code",
   "execution_count": null,
   "id": "7cf93c40",
   "metadata": {},
   "outputs": [],
   "source": []
  },
  {
   "cell_type": "code",
   "execution_count": null,
   "id": "fe6628e7",
   "metadata": {},
   "outputs": [],
   "source": []
  },
  {
   "cell_type": "code",
   "execution_count": null,
   "id": "9660391e",
   "metadata": {},
   "outputs": [],
   "source": []
  },
  {
   "cell_type": "code",
   "execution_count": null,
   "id": "1439a516",
   "metadata": {},
   "outputs": [],
   "source": []
  },
  {
   "cell_type": "code",
   "execution_count": null,
   "id": "45da5ff5",
   "metadata": {},
   "outputs": [],
   "source": []
  },
  {
   "cell_type": "code",
   "execution_count": null,
   "id": "cb0712dd",
   "metadata": {},
   "outputs": [],
   "source": []
  },
  {
   "cell_type": "code",
   "execution_count": null,
   "id": "e407258a",
   "metadata": {},
   "outputs": [],
   "source": []
  },
  {
   "cell_type": "code",
   "execution_count": null,
   "id": "ad631b9e",
   "metadata": {},
   "outputs": [],
   "source": []
  },
  {
   "cell_type": "code",
   "execution_count": null,
   "id": "6dd3c796",
   "metadata": {},
   "outputs": [],
   "source": []
  },
  {
   "cell_type": "code",
   "execution_count": null,
   "id": "a6e5c245",
   "metadata": {},
   "outputs": [],
   "source": []
  }
 ],
 "metadata": {
  "kernelspec": {
   "display_name": ".venv2",
   "language": "python",
   "name": "python3"
  },
  "language_info": {
   "codemirror_mode": {
    "name": "ipython",
    "version": 3
   },
   "file_extension": ".py",
   "mimetype": "text/x-python",
   "name": "python",
   "nbconvert_exporter": "python",
   "pygments_lexer": "ipython3",
   "version": "3.11.9"
  }
 },
 "nbformat": 4,
 "nbformat_minor": 5
}
