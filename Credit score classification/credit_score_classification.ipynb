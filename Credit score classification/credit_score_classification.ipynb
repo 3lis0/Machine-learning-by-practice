{
 "cells": [
  {
   "cell_type": "markdown",
   "id": "09542aa5",
   "metadata": {},
   "source": [
    "# Credit Score Classification\n",
    "\n",
    "## Objective\n",
    "The primary objective of this project is to develop a machine learning model that accurately classifies individuals into predefined credit score categories based on various features available in the dataset. The end goal is to create a tool that can help financial institutions assess the creditworthiness of their clients efficiently and reliably.\n",
    "\n",
    "# Features Description\n",
    "\n",
    "- **ID**: A unique identifier for each entry in the dataset.\n",
    "\n",
    "- **Customer_ID**: A unique identifier for each customer. This is used to track individual credit records.\n",
    "\n",
    "- **Month**: The transaction or record month. Useful for temporal analysis to track scores over time.\n",
    "\n",
    "- **Name**: The name of the customer. Generally not used for modeling but may be used for descriptive purposes.\n",
    "\n",
    "- **Age**: The age of the customer. Age could be a significant factor in determining credit risk.\n",
    "\n",
    "- **SSN**: Social Security Number. Typically, not used directly in modeling but important for identification and verification processes.\n",
    "\n",
    "- **Occupation**: The occupation of the customer. Different occupation types can have varying default risk associated with them.\n",
    "\n",
    "- **Annual_Income**: The total yearly income of the customer. A key factor in determining an individual's ability to repay loans.\n",
    "\n",
    "- **Monthly_Inhand_Salary**: The salary in-hand received monthly after deductions. Important for assessing cash flow and repayment capacity.\n",
    "\n",
    "- **Num_Bank_Accounts**: Total number of bank accounts the customer has. Reflects financial behavior and stability.\n",
    "\n",
    "- **Num_Credit_Card**: The number of credit cards held by the customer. Related to credit exposure and spending habits.\n",
    "\n",
    "- **Interest_Rate**: The interest rate applicable on loans or credit cards. Influences the customer’s repayment burden.\n",
    "\n",
    "- **Num_of_Loan**: The total number of loans the customer has. Shows the level of indebtedness.\n",
    "\n",
    "- **Type_of_Loan**: The types of loans held by the customer (e.g., personal, auto, mortgage). Different loan types carry different risks.\n",
    "\n",
    "- **Delay_from_due_date**: Average delay in days for payments past due date. Indicative of payment habits and reliability.\n",
    "\n",
    "- **Num_of_Delayed_Payment**: Number of payments delayed beyond due dates. Impacts credit score directly.\n",
    "\n",
    "- **Changed_Credit_Limit**: Changes in credit limits. Could indicate changes in perceived creditworthiness or attempts to manage debts.\n",
    "\n",
    "- **Num_Credit_Inquiries**: Number of times the credit report has been pulled. A high number might indicate financial distress or credit shopping.\n",
    "\n",
    "- **Credit_Mix**: The variety of credit types the customer has (e.g., cards, mortgages, installment loans). Diversity can be positive or negative.\n",
    "\n",
    "- **Outstanding_Debt**: The total debt remaining unpaid. High debt indicates higher risk.\n",
    "\n",
    "- **Credit_Utilization_Ratio**: The percentage of credit used out of the total available credit limit. Higher ratios suggest greater risk.\n",
    "\n",
    "- **Credit_History_Age**: The age of the customer’s oldest credit account, usually in years and months. Longer histories typically boast better scores.\n",
    "\n",
    "- **Payment_of_Min_Amount**: Whether the customer makes only the minimum monthly payment. Shows risk-averse behavior.\n",
    "\n",
    "- **Total_EMI_per_month**: The total Equated Monthly Installment paid across all loans. Determines monthly financial burden.\n",
    "\n",
    "- **Amount_invested_monthly**: The amount the customer invests monthly. Suggests savings habits and financial health.\n",
    "\n",
    "- **Payment_Behaviour**: General payment behavior and patterns. A qualitative measure of reliability.\n",
    "\n",
    "- **Monthly_Balance**: The balance remaining after monthly expenses. Indicates cash flow and financial stability.\n",
    "\n",
    "\n",
    "## Target\n",
    "The target variable for this classification problem is the credit score category, which segments individuals according to their creditworthiness. The categories may include, but are not limited to:\n",
    "- **Good**: Represents individuals who have a high credit score and are likely to meet their credit obligations.\n",
    "- **Average**: Represents individuals with a medium-range credit score, indicating moderate creditworthiness.\n",
    "- **Poor**: Represents individuals with a low credit score, suggesting a higher risk of default.\n",
    "\n",
    "The model will be trained to assign each individual in the dataset to one of these categories based on the input features."
   ]
  },
  {
   "cell_type": "markdown",
   "id": "409ae9cc",
   "metadata": {},
   "source": [
    "# 01. Import Necessary Libraries"
   ]
  },
  {
   "cell_type": "markdown",
   "id": "3c117a3e",
   "metadata": {},
   "source": [
    "- Default Libraries"
   ]
  },
  {
   "cell_type": "code",
   "execution_count": 1,
   "id": "f620caea",
   "metadata": {},
   "outputs": [],
   "source": [
    "import numpy as np\n",
    "import pandas as pd\n",
    "import matplotlib.pyplot as plt\n",
    "import seaborn as sns"
   ]
  },
  {
   "cell_type": "markdown",
   "id": "821634a9",
   "metadata": {},
   "source": [
    "- Additional Libraries"
   ]
  },
  {
   "cell_type": "code",
   "execution_count": 2,
   "id": "b581409f",
   "metadata": {},
   "outputs": [],
   "source": [
    "from sklearn.preprocessing import LabelEncoder, OrdinalEncoder, OneHotEncoder, StandardScaler\n",
    "from sklearn.model_selection import train_test_split\n",
    "from sklearn.compose import ColumnTransformer\n",
    "from sklearn.pipeline import Pipeline\n",
    "from sklearn.ensemble import RandomForestClassifier\n",
    "from sklearn.tree import DecisionTreeClassifier\n",
    "from xgboost import XGBClassifier\n",
    "from xgboost import plot_importance\n",
    "from sklearn.model_selection import cross_val_score, KFold, RandomizedSearchCV\n",
    "from sklearn.metrics import accuracy_score, classification_report, confusion_matrix"
   ]
  },
  {
   "cell_type": "markdown",
   "id": "0fef335d",
   "metadata": {},
   "source": [
    "----------------\n",
    "# 02. Load Data"
   ]
  },
  {
   "cell_type": "code",
   "execution_count": 3,
   "id": "46813e1c",
   "metadata": {},
   "outputs": [
    {
     "name": "stderr",
     "output_type": "stream",
     "text": [
      "C:\\Users\\alisa\\AppData\\Local\\Temp\\ipykernel_5824\\3141004913.py:1: DtypeWarning: Columns (26) have mixed types. Specify dtype option on import or set low_memory=False.\n",
      "  train = pd.read_csv(\"Data/train.csv\")\n"
     ]
    }
   ],
   "source": [
    "train = pd.read_csv(\"Data/train.csv\")"
   ]
  },
  {
   "cell_type": "markdown",
   "id": "cce9eba3",
   "metadata": {},
   "source": [
    "----------------\n",
    "# 03. Exploratory Data Analysis (EDA)"
   ]
  },
  {
   "cell_type": "markdown",
   "id": "7cb9d7f2",
   "metadata": {},
   "source": [
    "## `i` Simple Analysis"
   ]
  },
  {
   "cell_type": "code",
   "execution_count": 4,
   "id": "fd3d5383",
   "metadata": {},
   "outputs": [
    {
     "data": {
      "text/plain": [
       "(100000, 28)"
      ]
     },
     "execution_count": 4,
     "metadata": {},
     "output_type": "execute_result"
    }
   ],
   "source": [
    "train.shape"
   ]
  },
  {
   "cell_type": "code",
   "execution_count": 5,
   "id": "3e427b76",
   "metadata": {},
   "outputs": [
    {
     "data": {
      "application/vnd.microsoft.datawrangler.viewer.v0+json": {
       "columns": [
        {
         "name": "index",
         "rawType": "int64",
         "type": "integer"
        },
        {
         "name": "ID",
         "rawType": "object",
         "type": "string"
        },
        {
         "name": "Customer_ID",
         "rawType": "object",
         "type": "string"
        },
        {
         "name": "Month",
         "rawType": "object",
         "type": "string"
        },
        {
         "name": "Name",
         "rawType": "object",
         "type": "string"
        },
        {
         "name": "Age",
         "rawType": "object",
         "type": "string"
        },
        {
         "name": "SSN",
         "rawType": "object",
         "type": "string"
        },
        {
         "name": "Occupation",
         "rawType": "object",
         "type": "string"
        },
        {
         "name": "Annual_Income",
         "rawType": "object",
         "type": "string"
        },
        {
         "name": "Monthly_Inhand_Salary",
         "rawType": "float64",
         "type": "float"
        },
        {
         "name": "Num_Bank_Accounts",
         "rawType": "int64",
         "type": "integer"
        },
        {
         "name": "Num_Credit_Card",
         "rawType": "int64",
         "type": "integer"
        },
        {
         "name": "Interest_Rate",
         "rawType": "int64",
         "type": "integer"
        },
        {
         "name": "Num_of_Loan",
         "rawType": "object",
         "type": "string"
        },
        {
         "name": "Type_of_Loan",
         "rawType": "object",
         "type": "string"
        },
        {
         "name": "Delay_from_due_date",
         "rawType": "int64",
         "type": "integer"
        },
        {
         "name": "Num_of_Delayed_Payment",
         "rawType": "object",
         "type": "unknown"
        },
        {
         "name": "Changed_Credit_Limit",
         "rawType": "object",
         "type": "string"
        },
        {
         "name": "Num_Credit_Inquiries",
         "rawType": "float64",
         "type": "float"
        },
        {
         "name": "Credit_Mix",
         "rawType": "object",
         "type": "string"
        },
        {
         "name": "Outstanding_Debt",
         "rawType": "object",
         "type": "string"
        },
        {
         "name": "Credit_Utilization_Ratio",
         "rawType": "float64",
         "type": "float"
        },
        {
         "name": "Credit_History_Age",
         "rawType": "object",
         "type": "unknown"
        },
        {
         "name": "Payment_of_Min_Amount",
         "rawType": "object",
         "type": "string"
        },
        {
         "name": "Total_EMI_per_month",
         "rawType": "float64",
         "type": "float"
        },
        {
         "name": "Amount_invested_monthly",
         "rawType": "object",
         "type": "string"
        },
        {
         "name": "Payment_Behaviour",
         "rawType": "object",
         "type": "string"
        },
        {
         "name": "Monthly_Balance",
         "rawType": "object",
         "type": "string"
        },
        {
         "name": "Credit_Score",
         "rawType": "object",
         "type": "string"
        }
       ],
       "ref": "43e4e0c6-e766-44f9-9bd9-42259236a54f",
       "rows": [
        [
         "0",
         "0x1602",
         "CUS_0xd40",
         "January",
         "Aaron Maashoh",
         "23",
         "821-00-0265",
         "Scientist",
         "19114.12",
         "1824.8433333333328",
         "3",
         "4",
         "3",
         "4",
         "Auto Loan, Credit-Builder Loan, Personal Loan, and Home Equity Loan",
         "3",
         "7",
         "11.27",
         "4.0",
         "_",
         "809.98",
         "26.822619623699016",
         "22 Years and 1 Months",
         "No",
         "49.57494921489417",
         "80.41529543900253",
         "High_spent_Small_value_payments",
         "312.49408867943663",
         "Good"
        ],
        [
         "1",
         "0x1603",
         "CUS_0xd40",
         "February",
         "Aaron Maashoh",
         "23",
         "821-00-0265",
         "Scientist",
         "19114.12",
         null,
         "3",
         "4",
         "3",
         "4",
         "Auto Loan, Credit-Builder Loan, Personal Loan, and Home Equity Loan",
         "-1",
         null,
         "11.27",
         "4.0",
         "Good",
         "809.98",
         "31.94496005538421",
         null,
         "No",
         "49.57494921489417",
         "118.28022162236736",
         "Low_spent_Large_value_payments",
         "284.62916249607184",
         "Good"
        ],
        [
         "2",
         "0x1604",
         "CUS_0xd40",
         "March",
         "Aaron Maashoh",
         "-500",
         "821-00-0265",
         "Scientist",
         "19114.12",
         null,
         "3",
         "4",
         "3",
         "4",
         "Auto Loan, Credit-Builder Loan, Personal Loan, and Home Equity Loan",
         "3",
         "7",
         "_",
         "4.0",
         "Good",
         "809.98",
         "28.60935202206993",
         "22 Years and 3 Months",
         "No",
         "49.57494921489417",
         "81.699521264648",
         "Low_spent_Medium_value_payments",
         "331.2098628537912",
         "Good"
        ],
        [
         "3",
         "0x1605",
         "CUS_0xd40",
         "April",
         "Aaron Maashoh",
         "23",
         "821-00-0265",
         "Scientist",
         "19114.12",
         null,
         "3",
         "4",
         "3",
         "4",
         "Auto Loan, Credit-Builder Loan, Personal Loan, and Home Equity Loan",
         "5",
         "4",
         "6.27",
         "4.0",
         "Good",
         "809.98",
         "31.377861869582357",
         "22 Years and 4 Months",
         "No",
         "49.57494921489417",
         "199.4580743910713",
         "Low_spent_Small_value_payments",
         "223.45130972736786",
         "Good"
        ],
        [
         "4",
         "0x1606",
         "CUS_0xd40",
         "May",
         "Aaron Maashoh",
         "23",
         "821-00-0265",
         "Scientist",
         "19114.12",
         "1824.8433333333328",
         "3",
         "4",
         "3",
         "4",
         "Auto Loan, Credit-Builder Loan, Personal Loan, and Home Equity Loan",
         "6",
         null,
         "11.27",
         "4.0",
         "Good",
         "809.98",
         "24.797346908844982",
         "22 Years and 5 Months",
         "No",
         "49.57494921489417",
         "41.420153086217326",
         "High_spent_Medium_value_payments",
         "341.48923103222177",
         "Good"
        ]
       ],
       "shape": {
        "columns": 28,
        "rows": 5
       }
      },
      "text/html": [
       "<div>\n",
       "<style scoped>\n",
       "    .dataframe tbody tr th:only-of-type {\n",
       "        vertical-align: middle;\n",
       "    }\n",
       "\n",
       "    .dataframe tbody tr th {\n",
       "        vertical-align: top;\n",
       "    }\n",
       "\n",
       "    .dataframe thead th {\n",
       "        text-align: right;\n",
       "    }\n",
       "</style>\n",
       "<table border=\"1\" class=\"dataframe\">\n",
       "  <thead>\n",
       "    <tr style=\"text-align: right;\">\n",
       "      <th></th>\n",
       "      <th>ID</th>\n",
       "      <th>Customer_ID</th>\n",
       "      <th>Month</th>\n",
       "      <th>Name</th>\n",
       "      <th>Age</th>\n",
       "      <th>SSN</th>\n",
       "      <th>Occupation</th>\n",
       "      <th>Annual_Income</th>\n",
       "      <th>Monthly_Inhand_Salary</th>\n",
       "      <th>Num_Bank_Accounts</th>\n",
       "      <th>...</th>\n",
       "      <th>Credit_Mix</th>\n",
       "      <th>Outstanding_Debt</th>\n",
       "      <th>Credit_Utilization_Ratio</th>\n",
       "      <th>Credit_History_Age</th>\n",
       "      <th>Payment_of_Min_Amount</th>\n",
       "      <th>Total_EMI_per_month</th>\n",
       "      <th>Amount_invested_monthly</th>\n",
       "      <th>Payment_Behaviour</th>\n",
       "      <th>Monthly_Balance</th>\n",
       "      <th>Credit_Score</th>\n",
       "    </tr>\n",
       "  </thead>\n",
       "  <tbody>\n",
       "    <tr>\n",
       "      <th>0</th>\n",
       "      <td>0x1602</td>\n",
       "      <td>CUS_0xd40</td>\n",
       "      <td>January</td>\n",
       "      <td>Aaron Maashoh</td>\n",
       "      <td>23</td>\n",
       "      <td>821-00-0265</td>\n",
       "      <td>Scientist</td>\n",
       "      <td>19114.12</td>\n",
       "      <td>1824.843333</td>\n",
       "      <td>3</td>\n",
       "      <td>...</td>\n",
       "      <td>_</td>\n",
       "      <td>809.98</td>\n",
       "      <td>26.822620</td>\n",
       "      <td>22 Years and 1 Months</td>\n",
       "      <td>No</td>\n",
       "      <td>49.574949</td>\n",
       "      <td>80.41529543900253</td>\n",
       "      <td>High_spent_Small_value_payments</td>\n",
       "      <td>312.49408867943663</td>\n",
       "      <td>Good</td>\n",
       "    </tr>\n",
       "    <tr>\n",
       "      <th>1</th>\n",
       "      <td>0x1603</td>\n",
       "      <td>CUS_0xd40</td>\n",
       "      <td>February</td>\n",
       "      <td>Aaron Maashoh</td>\n",
       "      <td>23</td>\n",
       "      <td>821-00-0265</td>\n",
       "      <td>Scientist</td>\n",
       "      <td>19114.12</td>\n",
       "      <td>NaN</td>\n",
       "      <td>3</td>\n",
       "      <td>...</td>\n",
       "      <td>Good</td>\n",
       "      <td>809.98</td>\n",
       "      <td>31.944960</td>\n",
       "      <td>NaN</td>\n",
       "      <td>No</td>\n",
       "      <td>49.574949</td>\n",
       "      <td>118.28022162236736</td>\n",
       "      <td>Low_spent_Large_value_payments</td>\n",
       "      <td>284.62916249607184</td>\n",
       "      <td>Good</td>\n",
       "    </tr>\n",
       "    <tr>\n",
       "      <th>2</th>\n",
       "      <td>0x1604</td>\n",
       "      <td>CUS_0xd40</td>\n",
       "      <td>March</td>\n",
       "      <td>Aaron Maashoh</td>\n",
       "      <td>-500</td>\n",
       "      <td>821-00-0265</td>\n",
       "      <td>Scientist</td>\n",
       "      <td>19114.12</td>\n",
       "      <td>NaN</td>\n",
       "      <td>3</td>\n",
       "      <td>...</td>\n",
       "      <td>Good</td>\n",
       "      <td>809.98</td>\n",
       "      <td>28.609352</td>\n",
       "      <td>22 Years and 3 Months</td>\n",
       "      <td>No</td>\n",
       "      <td>49.574949</td>\n",
       "      <td>81.699521264648</td>\n",
       "      <td>Low_spent_Medium_value_payments</td>\n",
       "      <td>331.2098628537912</td>\n",
       "      <td>Good</td>\n",
       "    </tr>\n",
       "    <tr>\n",
       "      <th>3</th>\n",
       "      <td>0x1605</td>\n",
       "      <td>CUS_0xd40</td>\n",
       "      <td>April</td>\n",
       "      <td>Aaron Maashoh</td>\n",
       "      <td>23</td>\n",
       "      <td>821-00-0265</td>\n",
       "      <td>Scientist</td>\n",
       "      <td>19114.12</td>\n",
       "      <td>NaN</td>\n",
       "      <td>3</td>\n",
       "      <td>...</td>\n",
       "      <td>Good</td>\n",
       "      <td>809.98</td>\n",
       "      <td>31.377862</td>\n",
       "      <td>22 Years and 4 Months</td>\n",
       "      <td>No</td>\n",
       "      <td>49.574949</td>\n",
       "      <td>199.4580743910713</td>\n",
       "      <td>Low_spent_Small_value_payments</td>\n",
       "      <td>223.45130972736786</td>\n",
       "      <td>Good</td>\n",
       "    </tr>\n",
       "    <tr>\n",
       "      <th>4</th>\n",
       "      <td>0x1606</td>\n",
       "      <td>CUS_0xd40</td>\n",
       "      <td>May</td>\n",
       "      <td>Aaron Maashoh</td>\n",
       "      <td>23</td>\n",
       "      <td>821-00-0265</td>\n",
       "      <td>Scientist</td>\n",
       "      <td>19114.12</td>\n",
       "      <td>1824.843333</td>\n",
       "      <td>3</td>\n",
       "      <td>...</td>\n",
       "      <td>Good</td>\n",
       "      <td>809.98</td>\n",
       "      <td>24.797347</td>\n",
       "      <td>22 Years and 5 Months</td>\n",
       "      <td>No</td>\n",
       "      <td>49.574949</td>\n",
       "      <td>41.420153086217326</td>\n",
       "      <td>High_spent_Medium_value_payments</td>\n",
       "      <td>341.48923103222177</td>\n",
       "      <td>Good</td>\n",
       "    </tr>\n",
       "  </tbody>\n",
       "</table>\n",
       "<p>5 rows × 28 columns</p>\n",
       "</div>"
      ],
      "text/plain": [
       "       ID Customer_ID     Month           Name   Age          SSN Occupation  \\\n",
       "0  0x1602   CUS_0xd40   January  Aaron Maashoh    23  821-00-0265  Scientist   \n",
       "1  0x1603   CUS_0xd40  February  Aaron Maashoh    23  821-00-0265  Scientist   \n",
       "2  0x1604   CUS_0xd40     March  Aaron Maashoh  -500  821-00-0265  Scientist   \n",
       "3  0x1605   CUS_0xd40     April  Aaron Maashoh    23  821-00-0265  Scientist   \n",
       "4  0x1606   CUS_0xd40       May  Aaron Maashoh    23  821-00-0265  Scientist   \n",
       "\n",
       "  Annual_Income  Monthly_Inhand_Salary  Num_Bank_Accounts  ...  Credit_Mix  \\\n",
       "0      19114.12            1824.843333                  3  ...           _   \n",
       "1      19114.12                    NaN                  3  ...        Good   \n",
       "2      19114.12                    NaN                  3  ...        Good   \n",
       "3      19114.12                    NaN                  3  ...        Good   \n",
       "4      19114.12            1824.843333                  3  ...        Good   \n",
       "\n",
       "   Outstanding_Debt Credit_Utilization_Ratio     Credit_History_Age  \\\n",
       "0            809.98                26.822620  22 Years and 1 Months   \n",
       "1            809.98                31.944960                    NaN   \n",
       "2            809.98                28.609352  22 Years and 3 Months   \n",
       "3            809.98                31.377862  22 Years and 4 Months   \n",
       "4            809.98                24.797347  22 Years and 5 Months   \n",
       "\n",
       "   Payment_of_Min_Amount Total_EMI_per_month Amount_invested_monthly  \\\n",
       "0                     No           49.574949       80.41529543900253   \n",
       "1                     No           49.574949      118.28022162236736   \n",
       "2                     No           49.574949         81.699521264648   \n",
       "3                     No           49.574949       199.4580743910713   \n",
       "4                     No           49.574949      41.420153086217326   \n",
       "\n",
       "                  Payment_Behaviour     Monthly_Balance Credit_Score  \n",
       "0   High_spent_Small_value_payments  312.49408867943663         Good  \n",
       "1    Low_spent_Large_value_payments  284.62916249607184         Good  \n",
       "2   Low_spent_Medium_value_payments   331.2098628537912         Good  \n",
       "3    Low_spent_Small_value_payments  223.45130972736786         Good  \n",
       "4  High_spent_Medium_value_payments  341.48923103222177         Good  \n",
       "\n",
       "[5 rows x 28 columns]"
      ]
     },
     "execution_count": 5,
     "metadata": {},
     "output_type": "execute_result"
    }
   ],
   "source": [
    "train.head()"
   ]
  },
  {
   "cell_type": "code",
   "execution_count": 6,
   "id": "3c5e821a",
   "metadata": {},
   "outputs": [
    {
     "name": "stdout",
     "output_type": "stream",
     "text": [
      "<class 'pandas.core.frame.DataFrame'>\n",
      "RangeIndex: 100000 entries, 0 to 99999\n",
      "Data columns (total 28 columns):\n",
      " #   Column                    Non-Null Count   Dtype  \n",
      "---  ------                    --------------   -----  \n",
      " 0   ID                        100000 non-null  object \n",
      " 1   Customer_ID               100000 non-null  object \n",
      " 2   Month                     100000 non-null  object \n",
      " 3   Name                      90015 non-null   object \n",
      " 4   Age                       100000 non-null  object \n",
      " 5   SSN                       100000 non-null  object \n",
      " 6   Occupation                100000 non-null  object \n",
      " 7   Annual_Income             100000 non-null  object \n",
      " 8   Monthly_Inhand_Salary     84998 non-null   float64\n",
      " 9   Num_Bank_Accounts         100000 non-null  int64  \n",
      " 10  Num_Credit_Card           100000 non-null  int64  \n",
      " 11  Interest_Rate             100000 non-null  int64  \n",
      " 12  Num_of_Loan               100000 non-null  object \n",
      " 13  Type_of_Loan              88592 non-null   object \n",
      " 14  Delay_from_due_date       100000 non-null  int64  \n",
      " 15  Num_of_Delayed_Payment    92998 non-null   object \n",
      " 16  Changed_Credit_Limit      100000 non-null  object \n",
      " 17  Num_Credit_Inquiries      98035 non-null   float64\n",
      " 18  Credit_Mix                100000 non-null  object \n",
      " 19  Outstanding_Debt          100000 non-null  object \n",
      " 20  Credit_Utilization_Ratio  100000 non-null  float64\n",
      " 21  Credit_History_Age        90970 non-null   object \n",
      " 22  Payment_of_Min_Amount     100000 non-null  object \n",
      " 23  Total_EMI_per_month       100000 non-null  float64\n",
      " 24  Amount_invested_monthly   95521 non-null   object \n",
      " 25  Payment_Behaviour         100000 non-null  object \n",
      " 26  Monthly_Balance           98800 non-null   object \n",
      " 27  Credit_Score              100000 non-null  object \n",
      "dtypes: float64(4), int64(4), object(20)\n",
      "memory usage: 21.4+ MB\n"
     ]
    }
   ],
   "source": [
    "train.info()"
   ]
  },
  {
   "cell_type": "code",
   "execution_count": 7,
   "id": "b5e5a9be",
   "metadata": {},
   "outputs": [
    {
     "data": {
      "application/vnd.microsoft.datawrangler.viewer.v0+json": {
       "columns": [
        {
         "name": "index",
         "rawType": "object",
         "type": "string"
        },
        {
         "name": "Monthly_Inhand_Salary",
         "rawType": "float64",
         "type": "float"
        },
        {
         "name": "Num_Bank_Accounts",
         "rawType": "float64",
         "type": "float"
        },
        {
         "name": "Num_Credit_Card",
         "rawType": "float64",
         "type": "float"
        },
        {
         "name": "Interest_Rate",
         "rawType": "float64",
         "type": "float"
        },
        {
         "name": "Delay_from_due_date",
         "rawType": "float64",
         "type": "float"
        },
        {
         "name": "Num_Credit_Inquiries",
         "rawType": "float64",
         "type": "float"
        },
        {
         "name": "Credit_Utilization_Ratio",
         "rawType": "float64",
         "type": "float"
        },
        {
         "name": "Total_EMI_per_month",
         "rawType": "float64",
         "type": "float"
        }
       ],
       "ref": "cdbce952-49ee-46eb-9324-bbc41e37fa65",
       "rows": [
        [
         "count",
         "84998.0",
         "100000.0",
         "100000.0",
         "100000.0",
         "100000.0",
         "98035.0",
         "100000.0",
         "100000.0"
        ],
        [
         "mean",
         "4194.170849600523",
         "17.09128",
         "22.47443",
         "72.46604",
         "21.06878",
         "27.75425103279441",
         "32.2851725189436",
         "1403.1182166159933"
        ],
        [
         "std",
         "3183.686166873262",
         "117.40483442734829",
         "129.05741011009846",
         "466.4226212217138",
         "14.86010422367809",
         "193.17733898003283",
         "5.116875070150906",
         "8306.041270321723"
        ],
        [
         "min",
         "303.6454166666666",
         "-1.0",
         "0.0",
         "1.0",
         "-5.0",
         "0.0",
         "20.0",
         "0.0"
        ],
        [
         "25%",
         "1625.5682291666667",
         "3.0",
         "4.0",
         "8.0",
         "10.0",
         "3.0",
         "28.05256656125577",
         "30.306660494686994"
        ],
        [
         "50%",
         "3093.745000000001",
         "6.0",
         "5.0",
         "13.0",
         "18.0",
         "6.0",
         "32.30578367171092",
         "69.24947329972044"
        ],
        [
         "75%",
         "5957.448333333334",
         "7.0",
         "7.0",
         "20.0",
         "28.0",
         "9.0",
         "36.4966630559621",
         "161.22424910969863"
        ],
        [
         "max",
         "15204.633333333331",
         "1798.0",
         "1499.0",
         "5797.0",
         "67.0",
         "2597.0",
         "50.00000000000001",
         "82331.0"
        ]
       ],
       "shape": {
        "columns": 8,
        "rows": 8
       }
      },
      "text/html": [
       "<div>\n",
       "<style scoped>\n",
       "    .dataframe tbody tr th:only-of-type {\n",
       "        vertical-align: middle;\n",
       "    }\n",
       "\n",
       "    .dataframe tbody tr th {\n",
       "        vertical-align: top;\n",
       "    }\n",
       "\n",
       "    .dataframe thead th {\n",
       "        text-align: right;\n",
       "    }\n",
       "</style>\n",
       "<table border=\"1\" class=\"dataframe\">\n",
       "  <thead>\n",
       "    <tr style=\"text-align: right;\">\n",
       "      <th></th>\n",
       "      <th>Monthly_Inhand_Salary</th>\n",
       "      <th>Num_Bank_Accounts</th>\n",
       "      <th>Num_Credit_Card</th>\n",
       "      <th>Interest_Rate</th>\n",
       "      <th>Delay_from_due_date</th>\n",
       "      <th>Num_Credit_Inquiries</th>\n",
       "      <th>Credit_Utilization_Ratio</th>\n",
       "      <th>Total_EMI_per_month</th>\n",
       "    </tr>\n",
       "  </thead>\n",
       "  <tbody>\n",
       "    <tr>\n",
       "      <th>count</th>\n",
       "      <td>84998.000000</td>\n",
       "      <td>100000.000000</td>\n",
       "      <td>100000.00000</td>\n",
       "      <td>100000.000000</td>\n",
       "      <td>100000.000000</td>\n",
       "      <td>98035.000000</td>\n",
       "      <td>100000.000000</td>\n",
       "      <td>100000.000000</td>\n",
       "    </tr>\n",
       "    <tr>\n",
       "      <th>mean</th>\n",
       "      <td>4194.170850</td>\n",
       "      <td>17.091280</td>\n",
       "      <td>22.47443</td>\n",
       "      <td>72.466040</td>\n",
       "      <td>21.068780</td>\n",
       "      <td>27.754251</td>\n",
       "      <td>32.285173</td>\n",
       "      <td>1403.118217</td>\n",
       "    </tr>\n",
       "    <tr>\n",
       "      <th>std</th>\n",
       "      <td>3183.686167</td>\n",
       "      <td>117.404834</td>\n",
       "      <td>129.05741</td>\n",
       "      <td>466.422621</td>\n",
       "      <td>14.860104</td>\n",
       "      <td>193.177339</td>\n",
       "      <td>5.116875</td>\n",
       "      <td>8306.041270</td>\n",
       "    </tr>\n",
       "    <tr>\n",
       "      <th>min</th>\n",
       "      <td>303.645417</td>\n",
       "      <td>-1.000000</td>\n",
       "      <td>0.00000</td>\n",
       "      <td>1.000000</td>\n",
       "      <td>-5.000000</td>\n",
       "      <td>0.000000</td>\n",
       "      <td>20.000000</td>\n",
       "      <td>0.000000</td>\n",
       "    </tr>\n",
       "    <tr>\n",
       "      <th>25%</th>\n",
       "      <td>1625.568229</td>\n",
       "      <td>3.000000</td>\n",
       "      <td>4.00000</td>\n",
       "      <td>8.000000</td>\n",
       "      <td>10.000000</td>\n",
       "      <td>3.000000</td>\n",
       "      <td>28.052567</td>\n",
       "      <td>30.306660</td>\n",
       "    </tr>\n",
       "    <tr>\n",
       "      <th>50%</th>\n",
       "      <td>3093.745000</td>\n",
       "      <td>6.000000</td>\n",
       "      <td>5.00000</td>\n",
       "      <td>13.000000</td>\n",
       "      <td>18.000000</td>\n",
       "      <td>6.000000</td>\n",
       "      <td>32.305784</td>\n",
       "      <td>69.249473</td>\n",
       "    </tr>\n",
       "    <tr>\n",
       "      <th>75%</th>\n",
       "      <td>5957.448333</td>\n",
       "      <td>7.000000</td>\n",
       "      <td>7.00000</td>\n",
       "      <td>20.000000</td>\n",
       "      <td>28.000000</td>\n",
       "      <td>9.000000</td>\n",
       "      <td>36.496663</td>\n",
       "      <td>161.224249</td>\n",
       "    </tr>\n",
       "    <tr>\n",
       "      <th>max</th>\n",
       "      <td>15204.633333</td>\n",
       "      <td>1798.000000</td>\n",
       "      <td>1499.00000</td>\n",
       "      <td>5797.000000</td>\n",
       "      <td>67.000000</td>\n",
       "      <td>2597.000000</td>\n",
       "      <td>50.000000</td>\n",
       "      <td>82331.000000</td>\n",
       "    </tr>\n",
       "  </tbody>\n",
       "</table>\n",
       "</div>"
      ],
      "text/plain": [
       "       Monthly_Inhand_Salary  Num_Bank_Accounts  Num_Credit_Card  \\\n",
       "count           84998.000000      100000.000000     100000.00000   \n",
       "mean             4194.170850          17.091280         22.47443   \n",
       "std              3183.686167         117.404834        129.05741   \n",
       "min               303.645417          -1.000000          0.00000   \n",
       "25%              1625.568229           3.000000          4.00000   \n",
       "50%              3093.745000           6.000000          5.00000   \n",
       "75%              5957.448333           7.000000          7.00000   \n",
       "max             15204.633333        1798.000000       1499.00000   \n",
       "\n",
       "       Interest_Rate  Delay_from_due_date  Num_Credit_Inquiries  \\\n",
       "count  100000.000000        100000.000000          98035.000000   \n",
       "mean       72.466040            21.068780             27.754251   \n",
       "std       466.422621            14.860104            193.177339   \n",
       "min         1.000000            -5.000000              0.000000   \n",
       "25%         8.000000            10.000000              3.000000   \n",
       "50%        13.000000            18.000000              6.000000   \n",
       "75%        20.000000            28.000000              9.000000   \n",
       "max      5797.000000            67.000000           2597.000000   \n",
       "\n",
       "       Credit_Utilization_Ratio  Total_EMI_per_month  \n",
       "count             100000.000000        100000.000000  \n",
       "mean                  32.285173          1403.118217  \n",
       "std                    5.116875          8306.041270  \n",
       "min                   20.000000             0.000000  \n",
       "25%                   28.052567            30.306660  \n",
       "50%                   32.305784            69.249473  \n",
       "75%                   36.496663           161.224249  \n",
       "max                   50.000000         82331.000000  "
      ]
     },
     "execution_count": 7,
     "metadata": {},
     "output_type": "execute_result"
    }
   ],
   "source": [
    "train.describe()"
   ]
  },
  {
   "cell_type": "code",
   "execution_count": 8,
   "id": "a4b8dc1d",
   "metadata": {},
   "outputs": [
    {
     "data": {
      "application/vnd.microsoft.datawrangler.viewer.v0+json": {
       "columns": [
        {
         "name": "index",
         "rawType": "object",
         "type": "string"
        },
        {
         "name": "0",
         "rawType": "int64",
         "type": "integer"
        }
       ],
       "ref": "bf14a3de-47bb-485c-95d8-12b7bffc5c00",
       "rows": [
        [
         "ID",
         "0"
        ],
        [
         "Customer_ID",
         "0"
        ],
        [
         "Month",
         "0"
        ],
        [
         "Name",
         "9985"
        ],
        [
         "Age",
         "0"
        ],
        [
         "SSN",
         "0"
        ],
        [
         "Occupation",
         "0"
        ],
        [
         "Annual_Income",
         "0"
        ],
        [
         "Monthly_Inhand_Salary",
         "15002"
        ],
        [
         "Num_Bank_Accounts",
         "0"
        ],
        [
         "Num_Credit_Card",
         "0"
        ],
        [
         "Interest_Rate",
         "0"
        ],
        [
         "Num_of_Loan",
         "0"
        ],
        [
         "Type_of_Loan",
         "11408"
        ],
        [
         "Delay_from_due_date",
         "0"
        ],
        [
         "Num_of_Delayed_Payment",
         "7002"
        ],
        [
         "Changed_Credit_Limit",
         "0"
        ],
        [
         "Num_Credit_Inquiries",
         "1965"
        ],
        [
         "Credit_Mix",
         "0"
        ],
        [
         "Outstanding_Debt",
         "0"
        ],
        [
         "Credit_Utilization_Ratio",
         "0"
        ],
        [
         "Credit_History_Age",
         "9030"
        ],
        [
         "Payment_of_Min_Amount",
         "0"
        ],
        [
         "Total_EMI_per_month",
         "0"
        ],
        [
         "Amount_invested_monthly",
         "4479"
        ],
        [
         "Payment_Behaviour",
         "0"
        ],
        [
         "Monthly_Balance",
         "1200"
        ],
        [
         "Credit_Score",
         "0"
        ]
       ],
       "shape": {
        "columns": 1,
        "rows": 28
       }
      },
      "text/plain": [
       "ID                              0\n",
       "Customer_ID                     0\n",
       "Month                           0\n",
       "Name                         9985\n",
       "Age                             0\n",
       "SSN                             0\n",
       "Occupation                      0\n",
       "Annual_Income                   0\n",
       "Monthly_Inhand_Salary       15002\n",
       "Num_Bank_Accounts               0\n",
       "Num_Credit_Card                 0\n",
       "Interest_Rate                   0\n",
       "Num_of_Loan                     0\n",
       "Type_of_Loan                11408\n",
       "Delay_from_due_date             0\n",
       "Num_of_Delayed_Payment       7002\n",
       "Changed_Credit_Limit            0\n",
       "Num_Credit_Inquiries         1965\n",
       "Credit_Mix                      0\n",
       "Outstanding_Debt                0\n",
       "Credit_Utilization_Ratio        0\n",
       "Credit_History_Age           9030\n",
       "Payment_of_Min_Amount           0\n",
       "Total_EMI_per_month             0\n",
       "Amount_invested_monthly      4479\n",
       "Payment_Behaviour               0\n",
       "Monthly_Balance              1200\n",
       "Credit_Score                    0\n",
       "dtype: int64"
      ]
     },
     "execution_count": 8,
     "metadata": {},
     "output_type": "execute_result"
    }
   ],
   "source": [
    "train.isnull().sum()"
   ]
  },
  {
   "cell_type": "code",
   "execution_count": 9,
   "id": "d47708e2",
   "metadata": {},
   "outputs": [
    {
     "data": {
      "text/plain": [
       "0"
      ]
     },
     "execution_count": 9,
     "metadata": {},
     "output_type": "execute_result"
    }
   ],
   "source": [
    "train.duplicated().sum()"
   ]
  },
  {
   "cell_type": "markdown",
   "id": "8e481fbb",
   "metadata": {},
   "source": [
    "Check the unknown symbols and unclean data, and wrong patterns to handle them."
   ]
  },
  {
   "cell_type": "code",
   "execution_count": 15,
   "id": "be24f053",
   "metadata": {},
   "outputs": [],
   "source": [
    "int_cols = train.select_dtypes(include=['int64', 'float64']).columns"
   ]
  },
  {
   "cell_type": "code",
   "execution_count": 18,
   "id": "71b29037",
   "metadata": {},
   "outputs": [
    {
     "name": "stdout",
     "output_type": "stream",
     "text": [
      "Column: Month\n",
      "Unique values: ['January' 'February' 'March' 'April' 'May' 'June' 'July' 'August']\n",
      "Missing values: 0\n",
      "--------------------------------------------------\n",
      "Column: Name\n",
      "Unique values: ['Aaron Maashoh' nan 'Rick Rothackerj' 'Langep' 'Jasond' 'Deepaa' 'Np'\n",
      " 'Nadiaq' 'Annk' 'Charlie Zhur']\n",
      "Missing values: 9985\n",
      "--------------------------------------------------\n",
      "Column: Age\n",
      "Unique values: ['23' '-500' '28_' '28' '34' '54' '55' '21' '31' '33']\n",
      "Missing values: 0\n",
      "--------------------------------------------------\n",
      "Column: Occupation\n",
      "Unique values: ['Scientist' '_______' 'Teacher' 'Engineer' 'Entrepreneur' 'Developer'\n",
      " 'Lawyer' 'Media_Manager' 'Doctor' 'Journalist']\n",
      "Missing values: 0\n",
      "--------------------------------------------------\n",
      "Column: Annual_Income\n",
      "Unique values: ['19114.12' '34847.84' '34847.84_' '143162.64' '30689.89' '30689.89_'\n",
      " '35547.71_' '35547.71' '73928.46' '131313.4']\n",
      "Missing values: 0\n",
      "--------------------------------------------------\n",
      "Column: Num_of_Loan\n",
      "Unique values: ['4' '1' '3' '967' '-100' '0' '0_' '2' '3_' '2_']\n",
      "Missing values: 0\n",
      "--------------------------------------------------\n",
      "Column: Type_of_Loan\n",
      "Unique values: ['Auto Loan, Credit-Builder Loan, Personal Loan, and Home Equity Loan'\n",
      " 'Credit-Builder Loan' 'Auto Loan, Auto Loan, and Not Specified'\n",
      " 'Not Specified' nan 'Credit-Builder Loan, and Mortgage Loan'\n",
      " 'Not Specified, Auto Loan, and Student Loan'\n",
      " 'Personal Loan, Debt Consolidation Loan, and Auto Loan'\n",
      " 'Not Specified, and Payday Loan'\n",
      " 'Credit-Builder Loan, Personal Loan, and Auto Loan']\n",
      "Missing values: 11408\n",
      "--------------------------------------------------\n",
      "Column: Num_of_Delayed_Payment\n",
      "Unique values: ['7' nan '4' '8_' '6' '1' '-1' '3_' '0' '8']\n",
      "Missing values: 7002\n",
      "--------------------------------------------------\n",
      "Column: Changed_Credit_Limit\n",
      "Unique values: ['11.27' '_' '6.27' '9.27' '5.42' '7.42' '6.42' '7.1' '11.1' '9.1']\n",
      "Missing values: 0\n",
      "--------------------------------------------------\n",
      "Column: Credit_Mix\n",
      "Unique values: ['_' 'Good' 'Standard' 'Bad']\n",
      "Missing values: 0\n",
      "--------------------------------------------------\n",
      "Column: Outstanding_Debt\n",
      "Unique values: ['809.98' '605.03' '1303.01' '632.46' '943.86' '548.2' '352.16' '1704.18'\n",
      " '1377.74' '421.43']\n",
      "Missing values: 0\n",
      "--------------------------------------------------\n",
      "Column: Credit_History_Age\n",
      "Unique values: ['22 Years and 1 Months' nan '22 Years and 3 Months'\n",
      " '22 Years and 4 Months' '22 Years and 5 Months' '22 Years and 6 Months'\n",
      " '22 Years and 7 Months' '26 Years and 7 Months' '26 Years and 8 Months'\n",
      " '26 Years and 9 Months']\n",
      "Missing values: 9030\n",
      "--------------------------------------------------\n",
      "Column: Payment_of_Min_Amount\n",
      "Unique values: ['No' 'NM' 'Yes']\n",
      "Missing values: 0\n",
      "--------------------------------------------------\n",
      "Column: Amount_invested_monthly\n",
      "Unique values: ['80.41529543900253' '118.28022162236736' '81.699521264648'\n",
      " '199.4580743910713' '41.420153086217326' '62.430172331195294'\n",
      " '178.3440674122349' '24.785216509052056' '104.291825168246'\n",
      " '40.39123782853101']\n",
      "Missing values: 4479\n",
      "--------------------------------------------------\n",
      "Column: Payment_Behaviour\n",
      "Unique values: ['High_spent_Small_value_payments' 'Low_spent_Large_value_payments'\n",
      " 'Low_spent_Medium_value_payments' 'Low_spent_Small_value_payments'\n",
      " 'High_spent_Medium_value_payments' '!@9#%8'\n",
      " 'High_spent_Large_value_payments']\n",
      "Missing values: 0\n",
      "--------------------------------------------------\n",
      "Column: Monthly_Balance\n",
      "Unique values: ['312.49408867943663' '284.62916249607184' '331.2098628537912'\n",
      " '223.45130972736786' '341.48923103222177' '340.4792117872438'\n",
      " '244.5653167062043' '358.12416760938714' '470.69062692529184'\n",
      " '484.5912142650067']\n",
      "Missing values: 1200\n",
      "--------------------------------------------------\n",
      "Column: Credit_Score\n",
      "Unique values: ['Good' 'Standard' 'Poor']\n",
      "Missing values: 0\n",
      "--------------------------------------------------\n"
     ]
    }
   ],
   "source": [
    "list_of_cols = [col for col in train.columns if col not in ['ID', 'Customer_ID', 'SSN'] + list(int_cols)]\n",
    "\n",
    "for col in list_of_cols:\n",
    "    if train[col].dtype == 'object':\n",
    "        print(f\"Column: {col}\")\n",
    "        print(f\"Unique values: {train[col].unique()[:10]}\")\n",
    "        print(f\"Missing values: {train[col].isnull().sum()}\")\n",
    "        print(\"-\" * 50)"
   ]
  },
  {
   "cell_type": "code",
   "execution_count": null,
   "id": "973c03e2",
   "metadata": {},
   "outputs": [],
   "source": [
    "check_cols = ['Monthly_Balance', 'Amount_invested_monthly', 'Outstanding_Debt']"
   ]
  },
  {
   "cell_type": "code",
   "execution_count": 22,
   "id": "6db5c8e2",
   "metadata": {},
   "outputs": [
    {
     "name": "stdout",
     "output_type": "stream",
     "text": [
      "Column: Monthly_Balance\n",
      "Non-numeric values: [nan '__-333333333333333333333333333__']\n",
      "--------------------------------------------------\n",
      "Column: Amount_invested_monthly\n",
      "Non-numeric values: ['__10000__' nan]\n",
      "--------------------------------------------------\n",
      "Column: Outstanding_Debt\n",
      "Non-numeric values: ['1328.93_' '1283.37_' '2797.17_' '3818.57_' '343.84_' '363.51_' '404.51_'\n",
      " '1755.81_' '2593.44_' '89.62_']\n",
      "--------------------------------------------------\n"
     ]
    }
   ],
   "source": [
    "for col in check_cols:\n",
    "    # Print unique non-numeric values in each column\n",
    "    non_numeric = train[~train[col].astype(str).str.replace('.', '', 1).str.replace('-', '', 1).str.isdigit()][col].unique()[:10]\n",
    "    print(f\"Column: {col}\")\n",
    "    print(f\"Non-numeric values: {non_numeric}\")\n",
    "    print(\"-\" * 50)"
   ]
  },
  {
   "cell_type": "markdown",
   "id": "efc471af",
   "metadata": {},
   "source": [
    "## `ii` Visual Analysis"
   ]
  },
  {
   "cell_type": "code",
   "execution_count": null,
   "id": "7cf93c40",
   "metadata": {},
   "outputs": [],
   "source": []
  },
  {
   "cell_type": "code",
   "execution_count": null,
   "id": "fe6628e7",
   "metadata": {},
   "outputs": [],
   "source": []
  },
  {
   "cell_type": "code",
   "execution_count": null,
   "id": "9660391e",
   "metadata": {},
   "outputs": [],
   "source": []
  },
  {
   "cell_type": "code",
   "execution_count": null,
   "id": "1439a516",
   "metadata": {},
   "outputs": [],
   "source": []
  },
  {
   "cell_type": "code",
   "execution_count": null,
   "id": "45da5ff5",
   "metadata": {},
   "outputs": [],
   "source": []
  },
  {
   "cell_type": "code",
   "execution_count": null,
   "id": "cb0712dd",
   "metadata": {},
   "outputs": [],
   "source": []
  },
  {
   "cell_type": "code",
   "execution_count": null,
   "id": "e407258a",
   "metadata": {},
   "outputs": [],
   "source": []
  },
  {
   "cell_type": "code",
   "execution_count": null,
   "id": "ad631b9e",
   "metadata": {},
   "outputs": [],
   "source": []
  },
  {
   "cell_type": "code",
   "execution_count": null,
   "id": "6dd3c796",
   "metadata": {},
   "outputs": [],
   "source": []
  },
  {
   "cell_type": "code",
   "execution_count": null,
   "id": "a6e5c245",
   "metadata": {},
   "outputs": [],
   "source": []
  }
 ],
 "metadata": {
  "kernelspec": {
   "display_name": ".venv2",
   "language": "python",
   "name": "python3"
  },
  "language_info": {
   "codemirror_mode": {
    "name": "ipython",
    "version": 3
   },
   "file_extension": ".py",
   "mimetype": "text/x-python",
   "name": "python",
   "nbconvert_exporter": "python",
   "pygments_lexer": "ipython3",
   "version": "3.11.9"
  }
 },
 "nbformat": 4,
 "nbformat_minor": 5
}
